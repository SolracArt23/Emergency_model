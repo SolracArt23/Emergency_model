{
 "cells": [
  {
   "cell_type": "code",
   "execution_count": 1,
   "id": "ebc96bc1",
   "metadata": {
    "_cell_guid": "b1076dfc-b9ad-4769-8c92-a6c4dae69d19",
    "_uuid": "8f2839f25d086af736a60e9eeb907d3b93b6e0e5",
    "execution": {
     "iopub.execute_input": "2024-03-03T16:26:12.337415Z",
     "iopub.status.busy": "2024-03-03T16:26:12.336813Z",
     "iopub.status.idle": "2024-03-03T16:26:24.186174Z",
     "shell.execute_reply": "2024-03-03T16:26:24.185024Z"
    },
    "papermill": {
     "duration": 11.870197,
     "end_time": "2024-03-03T16:26:24.188543",
     "exception": false,
     "start_time": "2024-03-03T16:26:12.318346",
     "status": "completed"
    },
    "tags": []
   },
   "outputs": [
    {
     "name": "stderr",
     "output_type": "stream",
     "text": [
      "/opt/conda/lib/python3.10/site-packages/scipy/__init__.py:146: UserWarning: A NumPy version >=1.16.5 and <1.23.0 is required for this version of SciPy (detected version 1.23.5\n",
      "  warnings.warn(f\"A NumPy version >={np_minversion} and <{np_maxversion}\"\n"
     ]
    }
   ],
   "source": [
    "import os\n",
    "import keras as kr\n",
    "import matplotlib.pyplot as plt\n",
    "import seaborn as sns\n",
    "import pandas as pd\n",
    "import numpy as np\n",
    "import tensorflow_hub as hub\n"
   ]
  },
  {
   "cell_type": "markdown",
   "id": "f8fb0f7e",
   "metadata": {
    "papermill": {
     "duration": 0.016549,
     "end_time": "2024-03-03T16:26:24.222525",
     "exception": false,
     "start_time": "2024-03-03T16:26:24.205976",
     "status": "completed"
    },
    "tags": []
   },
   "source": [
    "# Extraccion de los datos \n",
    "****\n",
    "El objetivo de este notebook es el analisis y creacion de un modelo que atravez de un tweet determine el valor o posible emergencia que pueda acontecer en el mesaje; donde predecira `1` en caso de que la emergencia sea real y `0` en el caso contrario"
   ]
  },
  {
   "cell_type": "markdown",
   "id": "3f67c69a",
   "metadata": {
    "papermill": {
     "duration": 0.016663,
     "end_time": "2024-03-03T16:26:24.256181",
     "exception": false,
     "start_time": "2024-03-03T16:26:24.239518",
     "status": "completed"
    },
    "tags": []
   },
   "source": [
    "## Extraccion y primer contacto \n",
    "****\n",
    "Ahora daremos un pequeño vistaso al data set y su contenido y definiremos cada columna"
   ]
  },
  {
   "cell_type": "code",
   "execution_count": 2,
   "id": "c9f3bdb3",
   "metadata": {
    "execution": {
     "iopub.execute_input": "2024-03-03T16:26:24.291933Z",
     "iopub.status.busy": "2024-03-03T16:26:24.291416Z",
     "iopub.status.idle": "2024-03-03T16:26:24.353271Z",
     "shell.execute_reply": "2024-03-03T16:26:24.352532Z"
    },
    "papermill": {
     "duration": 0.081948,
     "end_time": "2024-03-03T16:26:24.355302",
     "exception": false,
     "start_time": "2024-03-03T16:26:24.273354",
     "status": "completed"
    },
    "tags": []
   },
   "outputs": [],
   "source": [
    "dataset = pd.read_csv('/kaggle/input/nlp-getting-started/train.csv')\n",
    "test_dataset = pd.read_csv('/kaggle/input/nlp-getting-started/test.csv')"
   ]
  },
  {
   "cell_type": "code",
   "execution_count": 3,
   "id": "834ece50",
   "metadata": {
    "execution": {
     "iopub.execute_input": "2024-03-03T16:26:24.390360Z",
     "iopub.status.busy": "2024-03-03T16:26:24.389731Z",
     "iopub.status.idle": "2024-03-03T16:26:24.407977Z",
     "shell.execute_reply": "2024-03-03T16:26:24.407126Z"
    },
    "papermill": {
     "duration": 0.03752,
     "end_time": "2024-03-03T16:26:24.409952",
     "exception": false,
     "start_time": "2024-03-03T16:26:24.372432",
     "status": "completed"
    },
    "tags": []
   },
   "outputs": [
    {
     "data": {
      "text/html": [
       "<div>\n",
       "<style scoped>\n",
       "    .dataframe tbody tr th:only-of-type {\n",
       "        vertical-align: middle;\n",
       "    }\n",
       "\n",
       "    .dataframe tbody tr th {\n",
       "        vertical-align: top;\n",
       "    }\n",
       "\n",
       "    .dataframe thead th {\n",
       "        text-align: right;\n",
       "    }\n",
       "</style>\n",
       "<table border=\"1\" class=\"dataframe\">\n",
       "  <thead>\n",
       "    <tr style=\"text-align: right;\">\n",
       "      <th></th>\n",
       "      <th>id</th>\n",
       "      <th>keyword</th>\n",
       "      <th>location</th>\n",
       "      <th>text</th>\n",
       "      <th>target</th>\n",
       "    </tr>\n",
       "  </thead>\n",
       "  <tbody>\n",
       "    <tr>\n",
       "      <th>0</th>\n",
       "      <td>1</td>\n",
       "      <td>NaN</td>\n",
       "      <td>NaN</td>\n",
       "      <td>Our Deeds are the Reason of this #earthquake M...</td>\n",
       "      <td>1</td>\n",
       "    </tr>\n",
       "    <tr>\n",
       "      <th>1</th>\n",
       "      <td>4</td>\n",
       "      <td>NaN</td>\n",
       "      <td>NaN</td>\n",
       "      <td>Forest fire near La Ronge Sask. Canada</td>\n",
       "      <td>1</td>\n",
       "    </tr>\n",
       "    <tr>\n",
       "      <th>2</th>\n",
       "      <td>5</td>\n",
       "      <td>NaN</td>\n",
       "      <td>NaN</td>\n",
       "      <td>All residents asked to 'shelter in place' are ...</td>\n",
       "      <td>1</td>\n",
       "    </tr>\n",
       "  </tbody>\n",
       "</table>\n",
       "</div>"
      ],
      "text/plain": [
       "   id keyword location                                               text  \\\n",
       "0   1     NaN      NaN  Our Deeds are the Reason of this #earthquake M...   \n",
       "1   4     NaN      NaN             Forest fire near La Ronge Sask. Canada   \n",
       "2   5     NaN      NaN  All residents asked to 'shelter in place' are ...   \n",
       "\n",
       "   target  \n",
       "0       1  \n",
       "1       1  \n",
       "2       1  "
      ]
     },
     "execution_count": 3,
     "metadata": {},
     "output_type": "execute_result"
    }
   ],
   "source": [
    "dataset.head(3)"
   ]
  },
  {
   "cell_type": "markdown",
   "id": "5cea84b7",
   "metadata": {
    "papermill": {
     "duration": 0.016729,
     "end_time": "2024-03-03T16:26:24.443917",
     "exception": false,
     "start_time": "2024-03-03T16:26:24.427188",
     "status": "completed"
    },
    "tags": []
   },
   "source": [
    "### Descripcion de columnas:\n",
    "***\n",
    "Como primera columna tenemos el `id` el cual hace referencia  a el numero correspondiente en la fila, para el analisis no ha de ser tan importante; `keword` son las palabras clave , `location` hace referencia a la ubicacion de donde procede el tweet, `text` el mensaje que he de analizar, `target` es el valor que hemos de esperar del modelo.\n",
    "\n",
    "Como notaste en la grafica anterior hay datos incompletos hemos de analizar el numero maximo de ejemplos que tengamos y con base en ello determinar si es preferible predecir esas etiquetas vacias o por el contrario eliminar las filas (o columnas) enteras. "
   ]
  },
  {
   "cell_type": "code",
   "execution_count": 4,
   "id": "8f7dda69",
   "metadata": {
    "execution": {
     "iopub.execute_input": "2024-03-03T16:26:24.478736Z",
     "iopub.status.busy": "2024-03-03T16:26:24.478474Z",
     "iopub.status.idle": "2024-03-03T16:26:24.483690Z",
     "shell.execute_reply": "2024-03-03T16:26:24.482884Z"
    },
    "papermill": {
     "duration": 0.024533,
     "end_time": "2024-03-03T16:26:24.485495",
     "exception": false,
     "start_time": "2024-03-03T16:26:24.460962",
     "status": "completed"
    },
    "tags": []
   },
   "outputs": [
    {
     "data": {
      "text/plain": [
       "(7613, 5)"
      ]
     },
     "execution_count": 4,
     "metadata": {},
     "output_type": "execute_result"
    }
   ],
   "source": [
    "dataset.shape"
   ]
  },
  {
   "cell_type": "markdown",
   "id": "2a10d568",
   "metadata": {
    "papermill": {
     "duration": 0.01666,
     "end_time": "2024-03-03T16:26:24.518790",
     "exception": false,
     "start_time": "2024-03-03T16:26:24.502130",
     "status": "completed"
    },
    "tags": []
   },
   "source": [
    "Veamos como se distribuyen los valores nulos."
   ]
  },
  {
   "cell_type": "code",
   "execution_count": 5,
   "id": "3e6e746c",
   "metadata": {
    "execution": {
     "iopub.execute_input": "2024-03-03T16:26:24.553247Z",
     "iopub.status.busy": "2024-03-03T16:26:24.552987Z",
     "iopub.status.idle": "2024-03-03T16:26:24.574440Z",
     "shell.execute_reply": "2024-03-03T16:26:24.573670Z"
    },
    "papermill": {
     "duration": 0.04082,
     "end_time": "2024-03-03T16:26:24.576296",
     "exception": false,
     "start_time": "2024-03-03T16:26:24.535476",
     "status": "completed"
    },
    "tags": []
   },
   "outputs": [
    {
     "data": {
      "text/html": [
       "<div>\n",
       "<style scoped>\n",
       "    .dataframe tbody tr th:only-of-type {\n",
       "        vertical-align: middle;\n",
       "    }\n",
       "\n",
       "    .dataframe tbody tr th {\n",
       "        vertical-align: top;\n",
       "    }\n",
       "\n",
       "    .dataframe thead th {\n",
       "        text-align: right;\n",
       "    }\n",
       "</style>\n",
       "<table border=\"1\" class=\"dataframe\">\n",
       "  <thead>\n",
       "    <tr style=\"text-align: right;\">\n",
       "      <th></th>\n",
       "      <th>id</th>\n",
       "      <th>keyword</th>\n",
       "      <th>location</th>\n",
       "      <th>text</th>\n",
       "      <th>target</th>\n",
       "    </tr>\n",
       "  </thead>\n",
       "  <tbody>\n",
       "    <tr>\n",
       "      <th>Cantidad de nulos</th>\n",
       "      <td>0.0</td>\n",
       "      <td>61.000000</td>\n",
       "      <td>2533.00000</td>\n",
       "      <td>0.0</td>\n",
       "      <td>0.0</td>\n",
       "    </tr>\n",
       "    <tr>\n",
       "      <th>Peso porcentual</th>\n",
       "      <td>0.0</td>\n",
       "      <td>0.008013</td>\n",
       "      <td>0.33272</td>\n",
       "      <td>0.0</td>\n",
       "      <td>0.0</td>\n",
       "    </tr>\n",
       "  </tbody>\n",
       "</table>\n",
       "</div>"
      ],
      "text/plain": [
       "                    id    keyword    location  text  target\n",
       "Cantidad de nulos  0.0  61.000000  2533.00000   0.0     0.0\n",
       "Peso porcentual    0.0   0.008013     0.33272   0.0     0.0"
      ]
     },
     "execution_count": 5,
     "metadata": {},
     "output_type": "execute_result"
    }
   ],
   "source": [
    "valor_porcentual = dataset.isna().sum()/len(dataset)\n",
    "pd.DataFrame([dataset.isna().sum(),valor_porcentual],index=['Cantidad de nulos','Peso porcentual'])"
   ]
  },
  {
   "cell_type": "markdown",
   "id": "3312a24a",
   "metadata": {
    "papermill": {
     "duration": 0.016767,
     "end_time": "2024-03-03T16:26:24.610045",
     "exception": false,
     "start_time": "2024-03-03T16:26:24.593278",
     "status": "completed"
    },
    "tags": []
   },
   "source": [
    "Como primera conclusion sabemos que los datos nulos equivalen a un `33%` por ende veremos como esto afecta a las predicciones o target."
   ]
  },
  {
   "cell_type": "code",
   "execution_count": 6,
   "id": "c50b4b2f",
   "metadata": {
    "execution": {
     "iopub.execute_input": "2024-03-03T16:26:24.684368Z",
     "iopub.status.busy": "2024-03-03T16:26:24.684063Z",
     "iopub.status.idle": "2024-03-03T16:26:25.316973Z",
     "shell.execute_reply": "2024-03-03T16:26:25.315962Z"
    },
    "papermill": {
     "duration": 0.653237,
     "end_time": "2024-03-03T16:26:25.319194",
     "exception": false,
     "start_time": "2024-03-03T16:26:24.665957",
     "status": "completed"
    },
    "tags": []
   },
   "outputs": [
    {
     "data": {
      "image/png": "[encoded data removed]",
      "text/plain": [
       "<Figure size 640x480 with 2 Axes>"
      ]
     },
     "metadata": {},
     "output_type": "display_data"
    }
   ],
   "source": [
    "#creacion de filtros\n",
    "target_correct=dataset.loc[:,:]['target'] == 1\n",
    "target_incorrect=dataset.loc[:,:]['target'] != 1\n",
    "\n",
    "#Aplicar filtro a los datos nulos\n",
    "dataset_fil_correct_prob = dataset.loc[target_correct].isna().sum()/len(dataset)\n",
    "dataset_fil_incorrect_prob = dataset.loc[target_incorrect].isna().sum()/len(dataset)\n",
    "\n",
    "\n",
    "#Visualizacion de los datos\n",
    "fig,ax = plt.subplots(2,1)\n",
    "ax[0].bar(dataset_fil_correct_prob.keys(),dataset_fil_correct_prob.values,label=dataset_fil_correct_prob.values,color=['orange','cyan'])\n",
    "ax[0].set_title(\"Datos nulos cuyo target es 1\")\n",
    "ax[0].legend()\n",
    "\n",
    "\n",
    "\n",
    "\n",
    "ax[-1].bar(dataset_fil_incorrect_prob.keys(),dataset_fil_incorrect_prob.values,label=dataset_fil_incorrect_prob.values,color=['orange','cyan'])\n",
    "ax[-1].legend()\n",
    "ax[-1].set_title(\"Datos nulos cuyo target es 0\")\n",
    "fig.suptitle(\"Analisis de valores nulos\")\n",
    "\n",
    "#configuracion de espacios\n",
    "plt.subplots_adjust(top=0.9,bottom=0.00001,wspace=0.1)\n"
   ]
  },
  {
   "cell_type": "markdown",
   "id": "e5f5a7aa",
   "metadata": {
    "papermill": {
     "duration": 0.018952,
     "end_time": "2024-03-03T16:26:25.357643",
     "exception": false,
     "start_time": "2024-03-03T16:26:25.338691",
     "status": "completed"
    },
    "tags": []
   },
   "source": [
    "Como conslusion, podemos efectuar que al eliminar los datos nulos el target cuyas predicicones sea `1` contendra un `81%` de los datos restantes y el target cuyo valor sea `0` contendra el `86%` de los datos restantes   "
   ]
  },
  {
   "cell_type": "code",
   "execution_count": 7,
   "id": "cd4f9584",
   "metadata": {
    "execution": {
     "iopub.execute_input": "2024-03-03T16:26:25.395168Z",
     "iopub.status.busy": "2024-03-03T16:26:25.394834Z",
     "iopub.status.idle": "2024-03-03T16:26:25.407221Z",
     "shell.execute_reply": "2024-03-03T16:26:25.406385Z"
    },
    "papermill": {
     "duration": 0.033046,
     "end_time": "2024-03-03T16:26:25.409083",
     "exception": false,
     "start_time": "2024-03-03T16:26:25.376037",
     "status": "completed"
    },
    "tags": []
   },
   "outputs": [
    {
     "data": {
      "text/plain": [
       "id          0\n",
       "keyword     0\n",
       "location    0\n",
       "text        0\n",
       "target      0\n",
       "dtype: int64"
      ]
     },
     "execution_count": 7,
     "metadata": {},
     "output_type": "execute_result"
    }
   ],
   "source": [
    "dataset = dataset.dropna()\n",
    "dataset.isna().sum()"
   ]
  },
  {
   "cell_type": "markdown",
   "id": "d5a154e6",
   "metadata": {
    "papermill": {
     "duration": 0.018339,
     "end_time": "2024-03-03T16:26:25.445777",
     "exception": false,
     "start_time": "2024-03-03T16:26:25.427438",
     "status": "completed"
    },
    "tags": []
   },
   "source": [
    "## Analisis de los datos\n",
    "***\n",
    "Ahora procederemos a crear una breve analisis, donde concluyamos la importancia de las distintas columnas (principalmente `keyword` y `location`), para ello evaluaremos los valores unicos de cada columna con la vairanza presente en los datos.\n",
    "\n",
    "Para ello evaluaremos la probabilidad de que el $target(T)=1$ dado una categoria de $keyword(K)=x_{n}$ o $location(L)=y_{n}$ y haremos el mismo analisis para el caso en que $target(T)=0$\n",
    "\n",
    "\n",
    "\n"
   ]
  },
  {
   "cell_type": "markdown",
   "id": "7abbb9c0",
   "metadata": {
    "papermill": {
     "duration": 0.017859,
     "end_time": "2024-03-03T16:26:25.482176",
     "exception": false,
     "start_time": "2024-03-03T16:26:25.464317",
     "status": "completed"
    },
    "tags": []
   },
   "source": [
    "#### Analisis `keyword`\n",
    "***\n",
    "Para este analisis evaluaremos las probabilidad general e individual donde evaluemos  que el valor del target sea 1 para cada columna\n",
    "\n",
    "* Probabilidad de X dado un target\n",
    "\n",
    "$P(X_{n} / T = 1) = X_{n}/X$ \n",
    "\n",
    "$P(X_{n} / T = 0) = X_{n}/X$ \n",
    "\n",
    "\n",
    "* Probabilidades de Target\n",
    "\n",
    "$P(T = 1) = ∑_{n=X} P(X_{n}/T = 1) $\n",
    "\n",
    "\n",
    "$P(T = 0) = ∑_{n=X} P(X_{n} /T = 0) $\n",
    "\n"
   ]
  },
  {
   "cell_type": "code",
   "execution_count": 8,
   "id": "44b32f1a",
   "metadata": {
    "execution": {
     "iopub.execute_input": "2024-03-03T16:26:25.519928Z",
     "iopub.status.busy": "2024-03-03T16:26:25.519239Z",
     "iopub.status.idle": "2024-03-03T16:26:25.528928Z",
     "shell.execute_reply": "2024-03-03T16:26:25.528213Z"
    },
    "papermill": {
     "duration": 0.030531,
     "end_time": "2024-03-03T16:26:25.530749",
     "exception": false,
     "start_time": "2024-03-03T16:26:25.500218",
     "status": "completed"
    },
    "tags": []
   },
   "outputs": [],
   "source": [
    "def Probabilidades(column):\n",
    "    #Categorizacion por target\n",
    "    target_1 = dataset.loc[:,['target',column]].loc[dataset['target'] == 1]\n",
    "    target_0 = dataset.loc[:,['target',column]].loc[dataset['target'] == 0]\n",
    "\n",
    "    #Conteo de elementos existentes categorizados por los elementos unicos de la columna\n",
    "    valores_unicos_target_0=target_0.groupby(column).count()\n",
    "    valores_unicos_target_1=target_1.groupby(column).count()\n",
    "\n",
    "    #Recopilazcion de los datos y creacion de dataset\n",
    "    cuadro_comparativa = pd.DataFrame([valores_unicos_target_0['target'],valores_unicos_target_1['target']],index=['target = 0','target = 1']).fillna(0).T.sort_values('target = 0',ascending=False)\n",
    "    cuadro_comparativa[\"N totales\"]=cuadro_comparativa.iloc[:].apply(np.sum,axis=1)\n",
    "\n",
    "    #definir funcion probabilisticas\n",
    "    P = lambda x: x/cuadro_comparativa['N totales'].sum()\n",
    "    \n",
    "    \n",
    "    #Creando las probabilidades\n",
    "    cuadro_comparativa['P(X/T = 0)'] = [P(x) for x in cuadro_comparativa['target = 0'] ] \n",
    "    cuadro_comparativa['P(X/T = 1)'] = [P(x) for x in cuadro_comparativa['target = 1'] ] \n",
    "    cuadro_comparativa['P(X)'] = [P(x) for x in cuadro_comparativa['N totales']] \n",
    "    \n",
    "    #Sacando el peso del target 1 y el target 0\n",
    "    prob_general = [cuadro_comparativa['P(X/T = 0)'].sum(),cuadro_comparativa['P(X/T = 1)'].sum()]\n",
    "    prob_general = pd.DataFrame(prob_general,index=['P(T=0)','P(T=1)'],columns=['Probabilidades']).T\n",
    "    \n",
    "    return cuadro_comparativa,prob_general"
   ]
  },
  {
   "cell_type": "code",
   "execution_count": 9,
   "id": "d61561a5",
   "metadata": {
    "execution": {
     "iopub.execute_input": "2024-03-03T16:26:25.567560Z",
     "iopub.status.busy": "2024-03-03T16:26:25.567287Z",
     "iopub.status.idle": "2024-03-03T16:26:25.665827Z",
     "shell.execute_reply": "2024-03-03T16:26:25.664919Z"
    },
    "papermill": {
     "duration": 0.119015,
     "end_time": "2024-03-03T16:26:25.667693",
     "exception": false,
     "start_time": "2024-03-03T16:26:25.548678",
     "status": "completed"
    },
    "tags": []
   },
   "outputs": [
    {
     "data": {
      "text/html": [
       "<div>\n",
       "<style scoped>\n",
       "    .dataframe tbody tr th:only-of-type {\n",
       "        vertical-align: middle;\n",
       "    }\n",
       "\n",
       "    .dataframe tbody tr th {\n",
       "        vertical-align: top;\n",
       "    }\n",
       "\n",
       "    .dataframe thead th {\n",
       "        text-align: right;\n",
       "    }\n",
       "</style>\n",
       "<table border=\"1\" class=\"dataframe\">\n",
       "  <thead>\n",
       "    <tr style=\"text-align: right;\">\n",
       "      <th></th>\n",
       "      <th>target = 0</th>\n",
       "      <th>target = 1</th>\n",
       "      <th>N totales</th>\n",
       "      <th>P(X/T = 0)</th>\n",
       "      <th>P(X/T = 1)</th>\n",
       "      <th>P(X)</th>\n",
       "    </tr>\n",
       "    <tr>\n",
       "      <th>keyword</th>\n",
       "      <th></th>\n",
       "      <th></th>\n",
       "      <th></th>\n",
       "      <th></th>\n",
       "      <th></th>\n",
       "      <th></th>\n",
       "    </tr>\n",
       "  </thead>\n",
       "  <tbody>\n",
       "    <tr>\n",
       "      <th>armageddon</th>\n",
       "      <td>28.0</td>\n",
       "      <td>4.0</td>\n",
       "      <td>32.0</td>\n",
       "      <td>0.005512</td>\n",
       "      <td>0.000787</td>\n",
       "      <td>0.006299</td>\n",
       "    </tr>\n",
       "    <tr>\n",
       "      <th>ruin</th>\n",
       "      <td>27.0</td>\n",
       "      <td>1.0</td>\n",
       "      <td>28.0</td>\n",
       "      <td>0.005315</td>\n",
       "      <td>0.000197</td>\n",
       "      <td>0.005512</td>\n",
       "    </tr>\n",
       "    <tr>\n",
       "      <th>harm</th>\n",
       "      <td>26.0</td>\n",
       "      <td>4.0</td>\n",
       "      <td>30.0</td>\n",
       "      <td>0.005118</td>\n",
       "      <td>0.000787</td>\n",
       "      <td>0.005906</td>\n",
       "    </tr>\n",
       "    <tr>\n",
       "      <th>fear</th>\n",
       "      <td>25.0</td>\n",
       "      <td>3.0</td>\n",
       "      <td>28.0</td>\n",
       "      <td>0.004921</td>\n",
       "      <td>0.000591</td>\n",
       "      <td>0.005512</td>\n",
       "    </tr>\n",
       "    <tr>\n",
       "      <th>screaming</th>\n",
       "      <td>25.0</td>\n",
       "      <td>1.0</td>\n",
       "      <td>26.0</td>\n",
       "      <td>0.004921</td>\n",
       "      <td>0.000197</td>\n",
       "      <td>0.005118</td>\n",
       "    </tr>\n",
       "    <tr>\n",
       "      <th>...</th>\n",
       "      <td>...</td>\n",
       "      <td>...</td>\n",
       "      <td>...</td>\n",
       "      <td>...</td>\n",
       "      <td>...</td>\n",
       "      <td>...</td>\n",
       "    </tr>\n",
       "    <tr>\n",
       "      <th>derailment</th>\n",
       "      <td>0.0</td>\n",
       "      <td>25.0</td>\n",
       "      <td>25.0</td>\n",
       "      <td>0.000000</td>\n",
       "      <td>0.004921</td>\n",
       "      <td>0.004921</td>\n",
       "    </tr>\n",
       "    <tr>\n",
       "      <th>oil%20spill</th>\n",
       "      <td>0.0</td>\n",
       "      <td>27.0</td>\n",
       "      <td>27.0</td>\n",
       "      <td>0.000000</td>\n",
       "      <td>0.005315</td>\n",
       "      <td>0.005315</td>\n",
       "    </tr>\n",
       "    <tr>\n",
       "      <th>suicide%20bomber</th>\n",
       "      <td>0.0</td>\n",
       "      <td>11.0</td>\n",
       "      <td>11.0</td>\n",
       "      <td>0.000000</td>\n",
       "      <td>0.002165</td>\n",
       "      <td>0.002165</td>\n",
       "    </tr>\n",
       "    <tr>\n",
       "      <th>suicide%20bombing</th>\n",
       "      <td>0.0</td>\n",
       "      <td>18.0</td>\n",
       "      <td>18.0</td>\n",
       "      <td>0.000000</td>\n",
       "      <td>0.003543</td>\n",
       "      <td>0.003543</td>\n",
       "    </tr>\n",
       "    <tr>\n",
       "      <th>wreckage</th>\n",
       "      <td>0.0</td>\n",
       "      <td>28.0</td>\n",
       "      <td>28.0</td>\n",
       "      <td>0.000000</td>\n",
       "      <td>0.005512</td>\n",
       "      <td>0.005512</td>\n",
       "    </tr>\n",
       "  </tbody>\n",
       "</table>\n",
       "<p>221 rows × 6 columns</p>\n",
       "</div>"
      ],
      "text/plain": [
       "                   target = 0  target = 1  N totales  P(X/T = 0)  P(X/T = 1)  \\\n",
       "keyword                                                                        \n",
       "armageddon               28.0         4.0       32.0    0.005512    0.000787   \n",
       "ruin                     27.0         1.0       28.0    0.005315    0.000197   \n",
       "harm                     26.0         4.0       30.0    0.005118    0.000787   \n",
       "fear                     25.0         3.0       28.0    0.004921    0.000591   \n",
       "screaming                25.0         1.0       26.0    0.004921    0.000197   \n",
       "...                       ...         ...        ...         ...         ...   \n",
       "derailment                0.0        25.0       25.0    0.000000    0.004921   \n",
       "oil%20spill               0.0        27.0       27.0    0.000000    0.005315   \n",
       "suicide%20bomber          0.0        11.0       11.0    0.000000    0.002165   \n",
       "suicide%20bombing         0.0        18.0       18.0    0.000000    0.003543   \n",
       "wreckage                  0.0        28.0       28.0    0.000000    0.005512   \n",
       "\n",
       "                       P(X)  \n",
       "keyword                      \n",
       "armageddon         0.006299  \n",
       "ruin               0.005512  \n",
       "harm               0.005906  \n",
       "fear               0.005512  \n",
       "screaming          0.005118  \n",
       "...                     ...  \n",
       "derailment         0.004921  \n",
       "oil%20spill        0.005315  \n",
       "suicide%20bomber   0.002165  \n",
       "suicide%20bombing  0.003543  \n",
       "wreckage           0.005512  \n",
       "\n",
       "[221 rows x 6 columns]"
      ]
     },
     "execution_count": 9,
     "metadata": {},
     "output_type": "execute_result"
    }
   ],
   "source": [
    "cuadro,prob_general=Probabilidades('keyword')\n",
    "cuadro"
   ]
  },
  {
   "cell_type": "code",
   "execution_count": 10,
   "id": "c10d2867",
   "metadata": {
    "execution": {
     "iopub.execute_input": "2024-03-03T16:26:25.705972Z",
     "iopub.status.busy": "2024-03-03T16:26:25.705280Z",
     "iopub.status.idle": "2024-03-03T16:26:26.727353Z",
     "shell.execute_reply": "2024-03-03T16:26:26.726433Z"
    },
    "papermill": {
     "duration": 1.04367,
     "end_time": "2024-03-03T16:26:26.729789",
     "exception": false,
     "start_time": "2024-03-03T16:26:25.686119",
     "status": "completed"
    },
    "tags": []
   },
   "outputs": [
    {
     "data": {
      "text/plain": [
       "<matplotlib.legend.Legend at 0x7b4728bc4ca0>"
      ]
     },
     "execution_count": 10,
     "metadata": {},
     "output_type": "execute_result"
    },
    {
     "data": {
      "image/png": "[encoded data removed]",
      "text/plain": [
       "<Figure size 600x600 with 3 Axes>"
      ]
     },
     "metadata": {},
     "output_type": "display_data"
    }
   ],
   "source": [
    "sns.jointplot(cuadro,x=\"P(X/T = 0)\",y=\"P(X/T = 1)\",space=0,kind=\"reg\",color='red',label=\"categoria K\")\n",
    "plt.legend()"
   ]
  },
  {
   "cell_type": "markdown",
   "id": "e69822a2",
   "metadata": {
    "papermill": {
     "duration": 0.019058,
     "end_time": "2024-03-03T16:26:26.769173",
     "exception": false,
     "start_time": "2024-03-03T16:26:26.750115",
     "status": "completed"
    },
    "tags": []
   },
   "source": [
    "Como conlcusion de la figura anterior encontramos que la mayoria de categorias de `keyword` son inutiles, dado que muchas de ellas tienen un aproximdado de 10 aciertos por tweet, no obstante, aquellas `keywords` cuyo target es alto suele rebasar demaciado aquellos tweets falsos.\n"
   ]
  },
  {
   "cell_type": "code",
   "execution_count": 11,
   "id": "9764c674",
   "metadata": {
    "execution": {
     "iopub.execute_input": "2024-03-03T16:26:26.808992Z",
     "iopub.status.busy": "2024-03-03T16:26:26.808675Z",
     "iopub.status.idle": "2024-03-03T16:26:26.817623Z",
     "shell.execute_reply": "2024-03-03T16:26:26.816672Z"
    },
    "papermill": {
     "duration": 0.031115,
     "end_time": "2024-03-03T16:26:26.819501",
     "exception": false,
     "start_time": "2024-03-03T16:26:26.788386",
     "status": "completed"
    },
    "tags": []
   },
   "outputs": [
    {
     "data": {
      "text/html": [
       "<div>\n",
       "<style scoped>\n",
       "    .dataframe tbody tr th:only-of-type {\n",
       "        vertical-align: middle;\n",
       "    }\n",
       "\n",
       "    .dataframe tbody tr th {\n",
       "        vertical-align: top;\n",
       "    }\n",
       "\n",
       "    .dataframe thead th {\n",
       "        text-align: right;\n",
       "    }\n",
       "</style>\n",
       "<table border=\"1\" class=\"dataframe\">\n",
       "  <thead>\n",
       "    <tr style=\"text-align: right;\">\n",
       "      <th></th>\n",
       "      <th>P(T=0)</th>\n",
       "      <th>P(T=1)</th>\n",
       "    </tr>\n",
       "  </thead>\n",
       "  <tbody>\n",
       "    <tr>\n",
       "      <th>Probabilidades</th>\n",
       "      <td>0.567717</td>\n",
       "      <td>0.432283</td>\n",
       "    </tr>\n",
       "  </tbody>\n",
       "</table>\n",
       "</div>"
      ],
      "text/plain": [
       "                  P(T=0)    P(T=1)\n",
       "Probabilidades  0.567717  0.432283"
      ]
     },
     "execution_count": 11,
     "metadata": {},
     "output_type": "execute_result"
    }
   ],
   "source": [
    "prob_general"
   ]
  },
  {
   "cell_type": "markdown",
   "id": "dcaf57c2",
   "metadata": {
    "papermill": {
     "duration": 0.020329,
     "end_time": "2024-03-03T16:26:26.859382",
     "exception": false,
     "start_time": "2024-03-03T16:26:26.839053",
     "status": "completed"
    },
    "tags": []
   },
   "source": [
    "Como segunda conclusion sacamos el promedio de los target presentes en las 221 categorias del `keyword` donde encontramos que  cada categoria tiene aproximadamente un `56%` de todos los datos de tweet falsos, mientras que solo el `43%` de los tweets correctos se distribuyen en todas las categorias del `keyword`"
   ]
  },
  {
   "cell_type": "code",
   "execution_count": 12,
   "id": "87e2b128",
   "metadata": {
    "execution": {
     "iopub.execute_input": "2024-03-03T16:26:26.901011Z",
     "iopub.status.busy": "2024-03-03T16:26:26.900703Z",
     "iopub.status.idle": "2024-03-03T16:26:28.135848Z",
     "shell.execute_reply": "2024-03-03T16:26:28.134949Z"
    },
    "papermill": {
     "duration": 1.259295,
     "end_time": "2024-03-03T16:26:28.138527",
     "exception": false,
     "start_time": "2024-03-03T16:26:26.879232",
     "status": "completed"
    },
    "tags": []
   },
   "outputs": [
    {
     "name": "stderr",
     "output_type": "stream",
     "text": [
      "/tmp/ipykernel_26/1750882127.py:4: UserWarning: \n",
      "\n",
      "`distplot` is a deprecated function and will be removed in seaborn v0.14.0.\n",
      "\n",
      "Please adapt your code to use either `displot` (a figure-level function with\n",
      "similar flexibility) or `histplot` (an axes-level function for histograms).\n",
      "\n",
      "For a guide to updating your code to use the new functions, please see\n",
      "https://gist.github.com/mwaskom/de44147ed2974457ad6372750bbe5751\n",
      "\n",
      "  sns.distplot([[cuadro['P(X)'][x],x] for x in range(len(cuadro))],color='salmon',ax=ax[0])\n"
     ]
    },
    {
     "data": {
      "text/plain": [
       "Text(0.5, 1.0, 'Analisis keyword')"
      ]
     },
     "execution_count": 12,
     "metadata": {},
     "output_type": "execute_result"
    },
    {
     "data": {
      "image/png": "[encoded data removed]",
      "text/plain": [
       "<Figure size 1000x1000 with 2 Axes>"
      ]
     },
     "metadata": {},
     "output_type": "display_data"
    }
   ],
   "source": [
    "fig,ax=plt.subplots(2,1,figsize=(10,10))\n",
    "\n",
    "#Heatmap de los datos\n",
    "sns.distplot([[cuadro['P(X)'][x],x] for x in range(len(cuadro))],color='salmon',ax=ax[0])\n",
    "\n",
    "\n",
    "\n",
    "sns.barplot(y=cuadro['target = 0'].keys()[:20],x=cuadro['N totales'][:20],color='lightgreen',label='Cantidad por categoria',ax=ax[-1])\n",
    "sns.barplot(y=cuadro['target = 0'].keys()[:20],x=cuadro['P(X/T = 0)'][:20]*len(dataset),color='lightblue',label='procentaje de target 0',ax=ax[-1])\n",
    "sns.barplot(y=cuadro['target = 0'].keys()[:20],x=cuadro['P(X/T = 1)'][:20]*len(dataset),color='salmon',label='porcentaje de target 1',ax=ax[-1])\n",
    "ax[-1].legend()\n",
    "plt.xlabel(\"Numero de los mejores 20 elementos  de keyword\")\n",
    "plt.title(\"Analisis keyword\")\n"
   ]
  },
  {
   "cell_type": "code",
   "execution_count": 13,
   "id": "d65802b4",
   "metadata": {
    "execution": {
     "iopub.execute_input": "2024-03-03T16:26:28.184745Z",
     "iopub.status.busy": "2024-03-03T16:26:28.184428Z",
     "iopub.status.idle": "2024-03-03T16:26:28.190076Z",
     "shell.execute_reply": "2024-03-03T16:26:28.189166Z"
    },
    "papermill": {
     "duration": 0.032128,
     "end_time": "2024-03-03T16:26:28.192406",
     "exception": false,
     "start_time": "2024-03-03T16:26:28.160278",
     "status": "completed"
    },
    "tags": []
   },
   "outputs": [
    {
     "name": "stdout",
     "output_type": "stream",
     "text": [
      "los primeros 50 datos: 0.2533464566929134\n",
      "los ultimos 50 datos: 0.20905511811023625\n"
     ]
    }
   ],
   "source": [
    "print(f'los primeros 50 datos: {cuadro[\"P(X)\"][:50].sum()}')\n",
    "print(f'los ultimos 50 datos: {cuadro[\"P(X)\"][-50:].sum()}')"
   ]
  },
  {
   "cell_type": "markdown",
   "id": "4ec6d3c1",
   "metadata": {
    "papermill": {
     "duration": 0.021202,
     "end_time": "2024-03-03T16:26:28.236069",
     "exception": false,
     "start_time": "2024-03-03T16:26:28.214867",
     "status": "completed"
    },
    "tags": []
   },
   "source": [
    "Como ultimo analisis del *keyword* veremos como se distribuyen probabilistica de los distitos datos, donde encontramos que las primeras *50* categorias son de mucha importancia representando `25%` de lo datos totales; esto es importante por que  nos permite tomar estas etiquetas para el modelo y usar las otras bajo el nombre de \"other\" o algo similar, lo que ayudara al modelo a la hora de su entrenamiento."
   ]
  },
  {
   "cell_type": "markdown",
   "id": "8da4afb7",
   "metadata": {
    "papermill": {
     "duration": 0.021613,
     "end_time": "2024-03-03T16:26:28.279311",
     "exception": false,
     "start_time": "2024-03-03T16:26:28.257698",
     "status": "completed"
    },
    "tags": []
   },
   "source": [
    "#### Analisis `location`\n"
   ]
  },
  {
   "cell_type": "code",
   "execution_count": 14,
   "id": "d75aaa88",
   "metadata": {
    "execution": {
     "iopub.execute_input": "2024-03-03T16:26:28.323018Z",
     "iopub.status.busy": "2024-03-03T16:26:28.322270Z",
     "iopub.status.idle": "2024-03-03T16:26:29.582296Z",
     "shell.execute_reply": "2024-03-03T16:26:29.581325Z"
    },
    "papermill": {
     "duration": 1.284,
     "end_time": "2024-03-03T16:26:29.584339",
     "exception": false,
     "start_time": "2024-03-03T16:26:28.300339",
     "status": "completed"
    },
    "tags": []
   },
   "outputs": [
    {
     "data": {
      "text/html": [
       "<div>\n",
       "<style scoped>\n",
       "    .dataframe tbody tr th:only-of-type {\n",
       "        vertical-align: middle;\n",
       "    }\n",
       "\n",
       "    .dataframe tbody tr th {\n",
       "        vertical-align: top;\n",
       "    }\n",
       "\n",
       "    .dataframe thead th {\n",
       "        text-align: right;\n",
       "    }\n",
       "</style>\n",
       "<table border=\"1\" class=\"dataframe\">\n",
       "  <thead>\n",
       "    <tr style=\"text-align: right;\">\n",
       "      <th></th>\n",
       "      <th>target = 0</th>\n",
       "      <th>target = 1</th>\n",
       "      <th>N totales</th>\n",
       "      <th>P(X/T = 0)</th>\n",
       "      <th>P(X/T = 1)</th>\n",
       "      <th>P(X)</th>\n",
       "    </tr>\n",
       "    <tr>\n",
       "      <th>location</th>\n",
       "      <th></th>\n",
       "      <th></th>\n",
       "      <th></th>\n",
       "      <th></th>\n",
       "      <th></th>\n",
       "      <th></th>\n",
       "    </tr>\n",
       "  </thead>\n",
       "  <tbody>\n",
       "    <tr>\n",
       "      <th>New York</th>\n",
       "      <td>55.0</td>\n",
       "      <td>16.0</td>\n",
       "      <td>71.0</td>\n",
       "      <td>0.010827</td>\n",
       "      <td>0.003150</td>\n",
       "      <td>0.013976</td>\n",
       "    </tr>\n",
       "    <tr>\n",
       "      <th>USA</th>\n",
       "      <td>37.0</td>\n",
       "      <td>67.0</td>\n",
       "      <td>104.0</td>\n",
       "      <td>0.007283</td>\n",
       "      <td>0.013189</td>\n",
       "      <td>0.020472</td>\n",
       "    </tr>\n",
       "    <tr>\n",
       "      <th>London</th>\n",
       "      <td>29.0</td>\n",
       "      <td>16.0</td>\n",
       "      <td>45.0</td>\n",
       "      <td>0.005709</td>\n",
       "      <td>0.003150</td>\n",
       "      <td>0.008858</td>\n",
       "    </tr>\n",
       "    <tr>\n",
       "      <th>United States</th>\n",
       "      <td>23.0</td>\n",
       "      <td>27.0</td>\n",
       "      <td>50.0</td>\n",
       "      <td>0.004528</td>\n",
       "      <td>0.005315</td>\n",
       "      <td>0.009843</td>\n",
       "    </tr>\n",
       "    <tr>\n",
       "      <th>Los Angeles, CA</th>\n",
       "      <td>18.0</td>\n",
       "      <td>8.0</td>\n",
       "      <td>26.0</td>\n",
       "      <td>0.003543</td>\n",
       "      <td>0.001575</td>\n",
       "      <td>0.005118</td>\n",
       "    </tr>\n",
       "  </tbody>\n",
       "</table>\n",
       "</div>"
      ],
      "text/plain": [
       "                 target = 0  target = 1  N totales  P(X/T = 0)  P(X/T = 1)  \\\n",
       "location                                                                     \n",
       "New York               55.0        16.0       71.0    0.010827    0.003150   \n",
       "USA                    37.0        67.0      104.0    0.007283    0.013189   \n",
       "London                 29.0        16.0       45.0    0.005709    0.003150   \n",
       "United States          23.0        27.0       50.0    0.004528    0.005315   \n",
       "Los Angeles, CA        18.0         8.0       26.0    0.003543    0.001575   \n",
       "\n",
       "                     P(X)  \n",
       "location                   \n",
       "New York         0.013976  \n",
       "USA              0.020472  \n",
       "London           0.008858  \n",
       "United States    0.009843  \n",
       "Los Angeles, CA  0.005118  "
      ]
     },
     "execution_count": 14,
     "metadata": {},
     "output_type": "execute_result"
    }
   ],
   "source": [
    "cuadro,prob_general=Probabilidades('location')\n",
    "cuadro.head()"
   ]
  },
  {
   "cell_type": "code",
   "execution_count": 15,
   "id": "2281dc0b",
   "metadata": {
    "execution": {
     "iopub.execute_input": "2024-03-03T16:26:29.629167Z",
     "iopub.status.busy": "2024-03-03T16:26:29.628880Z",
     "iopub.status.idle": "2024-03-03T16:26:32.184388Z",
     "shell.execute_reply": "2024-03-03T16:26:32.183336Z"
    },
    "papermill": {
     "duration": 2.580186,
     "end_time": "2024-03-03T16:26:32.186582",
     "exception": false,
     "start_time": "2024-03-03T16:26:29.606396",
     "status": "completed"
    },
    "tags": []
   },
   "outputs": [
    {
     "data": {
      "text/plain": [
       "<matplotlib.legend.Legend at 0x7b4728136b90>"
      ]
     },
     "execution_count": 15,
     "metadata": {},
     "output_type": "execute_result"
    },
    {
     "data": {
      "image/png": "[encoded data removed]",
      "text/plain": [
       "<Figure size 600x600 with 3 Axes>"
      ]
     },
     "metadata": {},
     "output_type": "display_data"
    }
   ],
   "source": [
    "sns.jointplot(cuadro,x=\"P(X/T = 0)\",y=\"P(X/T = 1)\",space=0,kind=\"reg\",color='red',label=\"categoria K\")\n",
    "plt.legend()\n",
    "\n"
   ]
  },
  {
   "cell_type": "markdown",
   "id": "49e2cc11",
   "metadata": {
    "papermill": {
     "duration": 0.022037,
     "end_time": "2024-03-03T16:26:32.232466",
     "exception": false,
     "start_time": "2024-03-03T16:26:32.210429",
     "status": "completed"
    },
    "tags": []
   },
   "source": [
    "Como conclusion de la grafica, encontramos que gran parte de las categorias de `location` son datos unicos que por mucho tiene  o uno a diez datos dividios es las categorias, donde es mas probable que los datos esten "
   ]
  },
  {
   "cell_type": "code",
   "execution_count": 16,
   "id": "e1216dce",
   "metadata": {
    "execution": {
     "iopub.execute_input": "2024-03-03T16:26:32.278937Z",
     "iopub.status.busy": "2024-03-03T16:26:32.278600Z",
     "iopub.status.idle": "2024-03-03T16:26:32.288889Z",
     "shell.execute_reply": "2024-03-03T16:26:32.287985Z"
    },
    "papermill": {
     "duration": 0.036116,
     "end_time": "2024-03-03T16:26:32.290893",
     "exception": false,
     "start_time": "2024-03-03T16:26:32.254777",
     "status": "completed"
    },
    "tags": []
   },
   "outputs": [
    {
     "data": {
      "text/html": [
       "<div>\n",
       "<style scoped>\n",
       "    .dataframe tbody tr th:only-of-type {\n",
       "        vertical-align: middle;\n",
       "    }\n",
       "\n",
       "    .dataframe tbody tr th {\n",
       "        vertical-align: top;\n",
       "    }\n",
       "\n",
       "    .dataframe thead th {\n",
       "        text-align: right;\n",
       "    }\n",
       "</style>\n",
       "<table border=\"1\" class=\"dataframe\">\n",
       "  <thead>\n",
       "    <tr style=\"text-align: right;\">\n",
       "      <th></th>\n",
       "      <th>P(T=0)</th>\n",
       "      <th>P(T=1)</th>\n",
       "    </tr>\n",
       "  </thead>\n",
       "  <tbody>\n",
       "    <tr>\n",
       "      <th>Probabilidades</th>\n",
       "      <td>0.567717</td>\n",
       "      <td>0.432283</td>\n",
       "    </tr>\n",
       "  </tbody>\n",
       "</table>\n",
       "</div>"
      ],
      "text/plain": [
       "                  P(T=0)    P(T=1)\n",
       "Probabilidades  0.567717  0.432283"
      ]
     },
     "execution_count": 16,
     "metadata": {},
     "output_type": "execute_result"
    }
   ],
   "source": [
    "prob_general"
   ]
  },
  {
   "cell_type": "markdown",
   "id": "1792280b",
   "metadata": {
    "papermill": {
     "duration": 0.022528,
     "end_time": "2024-03-03T16:26:32.337620",
     "exception": false,
     "start_time": "2024-03-03T16:26:32.315092",
     "status": "completed"
    },
    "tags": []
   },
   "source": [
    "Como segunda conclusion sacamos el promedio de los target presentes en las 221 categorias del `location` donde encontramos que  cada categoria tiene aproximadamente un `56%` de todos los datos de tweet falsos, mientras que solo el `43%` de los tweets correctos se distribuyen en todas las categorias del `location`"
   ]
  },
  {
   "cell_type": "code",
   "execution_count": 17,
   "id": "1d79946e",
   "metadata": {
    "execution": {
     "iopub.execute_input": "2024-03-03T16:26:32.384970Z",
     "iopub.status.busy": "2024-03-03T16:26:32.384678Z",
     "iopub.status.idle": "2024-03-03T16:26:33.479703Z",
     "shell.execute_reply": "2024-03-03T16:26:33.478803Z"
    },
    "papermill": {
     "duration": 1.12153,
     "end_time": "2024-03-03T16:26:33.482073",
     "exception": false,
     "start_time": "2024-03-03T16:26:32.360543",
     "status": "completed"
    },
    "tags": []
   },
   "outputs": [
    {
     "name": "stderr",
     "output_type": "stream",
     "text": [
      "/tmp/ipykernel_26/3776234551.py:4: UserWarning: \n",
      "\n",
      "`distplot` is a deprecated function and will be removed in seaborn v0.14.0.\n",
      "\n",
      "Please adapt your code to use either `displot` (a figure-level function with\n",
      "similar flexibility) or `histplot` (an axes-level function for histograms).\n",
      "\n",
      "For a guide to updating your code to use the new functions, please see\n",
      "https://gist.github.com/mwaskom/de44147ed2974457ad6372750bbe5751\n",
      "\n",
      "  sns.distplot([[cuadro['P(X)'][x],x] for x in range(len(cuadro))],color='salmon',ax=ax[0])\n"
     ]
    },
    {
     "data": {
      "text/plain": [
       "Text(0.5, 1.0, 'Analisis keyword')"
      ]
     },
     "execution_count": 17,
     "metadata": {},
     "output_type": "execute_result"
    },
    {
     "data": {
      "image/png": "[encoded data removed]",
      "text/plain": [
       "<Figure size 1000x1000 with 2 Axes>"
      ]
     },
     "metadata": {},
     "output_type": "display_data"
    }
   ],
   "source": [
    "fig,ax=plt.subplots(2,1,figsize=(10,10))\n",
    "\n",
    "#Heatmap de los datos\n",
    "sns.distplot([[cuadro['P(X)'][x],x] for x in range(len(cuadro))],color='salmon',ax=ax[0])\n",
    "\n",
    "\n",
    "\n",
    "sns.barplot(y=cuadro['target = 0'].keys()[:20],x=cuadro['N totales'][:20],color='lightgreen',label='Cantidad por categoria',ax=ax[-1])\n",
    "sns.barplot(y=cuadro['target = 0'].keys()[:20],x=cuadro['P(X/T = 0)'][:20]*len(dataset),color='lightblue',label='procentaje de target 0',ax=ax[-1])\n",
    "sns.barplot(y=cuadro['target = 0'].keys()[:20],x=cuadro['P(X/T = 1)'][:20]*len(dataset),color='salmon',label='porcentaje de target 1',ax=ax[-1])\n",
    "ax[-1].legend()\n",
    "plt.xlabel(\"Numero de los mejores 20 elementos  de Location\")\n",
    "plt.title(\"Analisis keyword\")\n"
   ]
  },
  {
   "cell_type": "code",
   "execution_count": 18,
   "id": "b6db04b1",
   "metadata": {
    "execution": {
     "iopub.execute_input": "2024-03-03T16:26:33.531654Z",
     "iopub.status.busy": "2024-03-03T16:26:33.530916Z",
     "iopub.status.idle": "2024-03-03T16:26:33.536925Z",
     "shell.execute_reply": "2024-03-03T16:26:33.535956Z"
    },
    "papermill": {
     "duration": 0.032287,
     "end_time": "2024-03-03T16:26:33.538881",
     "exception": false,
     "start_time": "2024-03-03T16:26:33.506594",
     "status": "completed"
    },
    "tags": []
   },
   "outputs": [
    {
     "name": "stdout",
     "output_type": "stream",
     "text": [
      "los primeros 200 datos: 0.28641732283464566\n",
      "los ultimos 200 datos: 0.04448818897637795\n"
     ]
    }
   ],
   "source": [
    "print(f'los primeros 200 datos: {cuadro[\"P(X)\"][:200].sum()}')\n",
    "print(f'los ultimos 200 datos: {cuadro[\"P(X)\"][-200:].sum()}')"
   ]
  },
  {
   "cell_type": "markdown",
   "id": "2add1b8e",
   "metadata": {
    "papermill": {
     "duration": 0.025324,
     "end_time": "2024-03-03T16:26:33.587916",
     "exception": false,
     "start_time": "2024-03-03T16:26:33.562592",
     "status": "completed"
    },
    "tags": []
   },
   "source": [
    "Como ultimo analisis del *location* veremos como se distribuyen probabilistica de los distitos datos, donde encontramos que las primeras *200* categorias son de mucha importancia representando `28%` de lo datos totales; esto es importante por que  nos permite tomar estas etiquetas para el modelo y usar las otras bajo el nombre de \"other\" o algo similar, lo que ayudara al modelo a la hora de su entrenamiento."
   ]
  },
  {
   "cell_type": "markdown",
   "id": "15560aed",
   "metadata": {
    "papermill": {
     "duration": 0.023111,
     "end_time": "2024-03-03T16:26:33.634833",
     "exception": false,
     "start_time": "2024-03-03T16:26:33.611722",
     "status": "completed"
    },
    "tags": []
   },
   "source": [
    "#### Conclusion General:\n",
    "****\n",
    "Como conclusion diriamos que escogeremos los primeros *50* categorias de `keyword` y  para  la columna de `location`  consideramos  que las *200* etiquetas sigue siendo muchas, por ende eliminaremos la columna."
   ]
  },
  {
   "cell_type": "code",
   "execution_count": 19,
   "id": "096de565",
   "metadata": {
    "execution": {
     "iopub.execute_input": "2024-03-03T16:26:33.682106Z",
     "iopub.status.busy": "2024-03-03T16:26:33.681826Z",
     "iopub.status.idle": "2024-03-03T16:26:33.685897Z",
     "shell.execute_reply": "2024-03-03T16:26:33.685032Z"
    },
    "papermill": {
     "duration": 0.029656,
     "end_time": "2024-03-03T16:26:33.687719",
     "exception": false,
     "start_time": "2024-03-03T16:26:33.658063",
     "status": "completed"
    },
    "tags": []
   },
   "outputs": [],
   "source": [
    "del(prob_general)\n",
    "del(cuadro)"
   ]
  },
  {
   "cell_type": "code",
   "execution_count": 20,
   "id": "5acc757c",
   "metadata": {
    "execution": {
     "iopub.execute_input": "2024-03-03T16:26:33.735046Z",
     "iopub.status.busy": "2024-03-03T16:26:33.734771Z",
     "iopub.status.idle": "2024-03-03T16:26:33.813757Z",
     "shell.execute_reply": "2024-03-03T16:26:33.813075Z"
    },
    "papermill": {
     "duration": 0.104936,
     "end_time": "2024-03-03T16:26:33.815761",
     "exception": false,
     "start_time": "2024-03-03T16:26:33.710825",
     "status": "completed"
    },
    "tags": []
   },
   "outputs": [],
   "source": [
    "#Extraccion nuevamente del dataset\n",
    "cuadro,prob_general=Probabilidades('keyword')\n",
    "\n",
    "#palabras clave\n",
    "keyword = enumerate(dict(cuadro[\"P(X)\"][:-50]).keys())\n",
    "keyword =[x[-1]  for x in list(keyword)]\n"
   ]
  },
  {
   "cell_type": "code",
   "execution_count": 21,
   "id": "9c126c55",
   "metadata": {
    "execution": {
     "iopub.execute_input": "2024-03-03T16:26:33.863411Z",
     "iopub.status.busy": "2024-03-03T16:26:33.863148Z",
     "iopub.status.idle": "2024-03-03T16:26:33.878909Z",
     "shell.execute_reply": "2024-03-03T16:26:33.878074Z"
    },
    "papermill": {
     "duration": 0.041734,
     "end_time": "2024-03-03T16:26:33.880784",
     "exception": false,
     "start_time": "2024-03-03T16:26:33.839050",
     "status": "completed"
    },
    "tags": []
   },
   "outputs": [
    {
     "data": {
      "text/plain": [
       "51"
      ]
     },
     "execution_count": 21,
     "metadata": {},
     "output_type": "execute_result"
    }
   ],
   "source": [
    "func = lambda x: 'another' if keyword.__contains__(x) else x\n",
    "dataset['keyword'] = dataset['keyword'].apply(func)\n",
    "len(dataset['keyword'].unique())"
   ]
  },
  {
   "cell_type": "code",
   "execution_count": 22,
   "id": "0506722d",
   "metadata": {
    "execution": {
     "iopub.execute_input": "2024-03-03T16:26:33.928897Z",
     "iopub.status.busy": "2024-03-03T16:26:33.928608Z",
     "iopub.status.idle": "2024-03-03T16:26:33.939052Z",
     "shell.execute_reply": "2024-03-03T16:26:33.938224Z"
    },
    "papermill": {
     "duration": 0.036805,
     "end_time": "2024-03-03T16:26:33.941172",
     "exception": false,
     "start_time": "2024-03-03T16:26:33.904367",
     "status": "completed"
    },
    "tags": []
   },
   "outputs": [
    {
     "data": {
      "text/plain": [
       "keyword\n",
       "inundation               0.000984\n",
       "radiation%20emergency    0.001181\n",
       "detonation               0.001575\n",
       "razed                    0.001969\n",
       "bioterrorism             0.002165\n",
       "suicide%20bomber         0.002165\n",
       "forest%20fire            0.002362\n",
       "bombing                  0.002756\n",
       "terrorism                0.002953\n",
       "nuclear%20disaster       0.002953\n",
       "forest%20fires           0.002953\n",
       "bush%20fires             0.003346\n",
       "rescuers                 0.003346\n",
       "volcano                  0.003346\n",
       "suicide%20bombing        0.003543\n",
       "survivors                0.003740\n",
       "fire%20truck             0.003740\n",
       "massacre                 0.003937\n",
       "terrorist                0.003937\n",
       "wildfire                 0.003937\n",
       "bridge%20collapse        0.003937\n",
       "hostages                 0.004331\n",
       "debris                   0.004331\n",
       "famine                   0.004331\n",
       "wild%20fires             0.004528\n",
       "violent%20storm          0.004528\n",
       "thunderstorm             0.004528\n",
       "heat%20wave              0.004528\n",
       "floods                   0.004724\n",
       "suicide%20bomb           0.004724\n",
       "mass%20murder            0.004921\n",
       "hailstorm                0.004921\n",
       "casualties               0.004921\n",
       "buildings%20burning      0.004921\n",
       "typhoon                  0.004921\n",
       "injured                  0.004921\n",
       "derailment               0.004921\n",
       "wounded                  0.005315\n",
       "oil%20spill              0.005315\n",
       "evacuated                0.005315\n",
       "accident                 0.005512\n",
       "flooding                 0.005512\n",
       "drought                  0.005512\n",
       "wreckage                 0.005512\n",
       "evacuation               0.005709\n",
       "buildings%20on%20fire    0.005709\n",
       "airplane%20accident      0.005709\n",
       "earthquake               0.005906\n",
       "outbreak                 0.006102\n",
       "sandstorm                0.006102\n",
       "another                  0.790945\n",
       "Name: text, dtype: float64"
      ]
     },
     "execution_count": 22,
     "metadata": {},
     "output_type": "execute_result"
    }
   ],
   "source": [
    "dataset.groupby('keyword')['text'].count().sort_values()/len(dataset)"
   ]
  },
  {
   "cell_type": "code",
   "execution_count": 23,
   "id": "7222cf9d",
   "metadata": {
    "execution": {
     "iopub.execute_input": "2024-03-03T16:26:33.991904Z",
     "iopub.status.busy": "2024-03-03T16:26:33.991237Z",
     "iopub.status.idle": "2024-03-03T16:26:34.004020Z",
     "shell.execute_reply": "2024-03-03T16:26:34.003076Z"
    },
    "papermill": {
     "duration": 0.039125,
     "end_time": "2024-03-03T16:26:34.006088",
     "exception": false,
     "start_time": "2024-03-03T16:26:33.966963",
     "status": "completed"
    },
    "tags": []
   },
   "outputs": [
    {
     "data": {
      "text/html": [
       "<div>\n",
       "<style scoped>\n",
       "    .dataframe tbody tr th:only-of-type {\n",
       "        vertical-align: middle;\n",
       "    }\n",
       "\n",
       "    .dataframe tbody tr th {\n",
       "        vertical-align: top;\n",
       "    }\n",
       "\n",
       "    .dataframe thead th {\n",
       "        text-align: right;\n",
       "    }\n",
       "</style>\n",
       "<table border=\"1\" class=\"dataframe\">\n",
       "  <thead>\n",
       "    <tr style=\"text-align: right;\">\n",
       "      <th></th>\n",
       "      <th>keyword</th>\n",
       "      <th>text</th>\n",
       "      <th>target</th>\n",
       "    </tr>\n",
       "  </thead>\n",
       "  <tbody>\n",
       "    <tr>\n",
       "      <th>31</th>\n",
       "      <td>another</td>\n",
       "      <td>@bbcmtd Wholesale Markets ablaze http://t.co/l...</td>\n",
       "      <td>1</td>\n",
       "    </tr>\n",
       "    <tr>\n",
       "      <th>32</th>\n",
       "      <td>another</td>\n",
       "      <td>We always try to bring the heavy. #metal #RT h...</td>\n",
       "      <td>0</td>\n",
       "    </tr>\n",
       "    <tr>\n",
       "      <th>33</th>\n",
       "      <td>another</td>\n",
       "      <td>#AFRICANBAZE: Breaking news:Nigeria flag set a...</td>\n",
       "      <td>1</td>\n",
       "    </tr>\n",
       "    <tr>\n",
       "      <th>34</th>\n",
       "      <td>another</td>\n",
       "      <td>Crying out for more! Set me ablaze</td>\n",
       "      <td>0</td>\n",
       "    </tr>\n",
       "    <tr>\n",
       "      <th>35</th>\n",
       "      <td>another</td>\n",
       "      <td>On plus side LOOK AT THE SKY LAST NIGHT IT WAS...</td>\n",
       "      <td>0</td>\n",
       "    </tr>\n",
       "    <tr>\n",
       "      <th>...</th>\n",
       "      <td>...</td>\n",
       "      <td>...</td>\n",
       "      <td>...</td>\n",
       "    </tr>\n",
       "    <tr>\n",
       "      <th>7575</th>\n",
       "      <td>another</td>\n",
       "      <td>On the bright side I wrecked http://t.co/uEa0t...</td>\n",
       "      <td>0</td>\n",
       "    </tr>\n",
       "    <tr>\n",
       "      <th>7577</th>\n",
       "      <td>another</td>\n",
       "      <td>@widda16 ... He's gone. You can relax. I thoug...</td>\n",
       "      <td>0</td>\n",
       "    </tr>\n",
       "    <tr>\n",
       "      <th>7579</th>\n",
       "      <td>another</td>\n",
       "      <td>Three days off from work and they've pretty mu...</td>\n",
       "      <td>0</td>\n",
       "    </tr>\n",
       "    <tr>\n",
       "      <th>7580</th>\n",
       "      <td>another</td>\n",
       "      <td>#FX #forex #trading Cramer: Iger's 3 words tha...</td>\n",
       "      <td>0</td>\n",
       "    </tr>\n",
       "    <tr>\n",
       "      <th>7581</th>\n",
       "      <td>another</td>\n",
       "      <td>@engineshed Great atmosphere at the British Li...</td>\n",
       "      <td>0</td>\n",
       "    </tr>\n",
       "  </tbody>\n",
       "</table>\n",
       "<p>5080 rows × 3 columns</p>\n",
       "</div>"
      ],
      "text/plain": [
       "      keyword                                               text  target\n",
       "31    another  @bbcmtd Wholesale Markets ablaze http://t.co/l...       1\n",
       "32    another  We always try to bring the heavy. #metal #RT h...       0\n",
       "33    another  #AFRICANBAZE: Breaking news:Nigeria flag set a...       1\n",
       "34    another                 Crying out for more! Set me ablaze       0\n",
       "35    another  On plus side LOOK AT THE SKY LAST NIGHT IT WAS...       0\n",
       "...       ...                                                ...     ...\n",
       "7575  another  On the bright side I wrecked http://t.co/uEa0t...       0\n",
       "7577  another  @widda16 ... He's gone. You can relax. I thoug...       0\n",
       "7579  another  Three days off from work and they've pretty mu...       0\n",
       "7580  another  #FX #forex #trading Cramer: Iger's 3 words tha...       0\n",
       "7581  another  @engineshed Great atmosphere at the British Li...       0\n",
       "\n",
       "[5080 rows x 3 columns]"
      ]
     },
     "execution_count": 23,
     "metadata": {},
     "output_type": "execute_result"
    }
   ],
   "source": [
    "# Eliminar la tabla de location\n",
    "dataset.drop(['location','id'],inplace=True,axis=1)\n",
    "dataset"
   ]
  },
  {
   "cell_type": "markdown",
   "id": "6b2f3518",
   "metadata": {
    "papermill": {
     "duration": 0.023638,
     "end_time": "2024-03-03T16:26:34.054011",
     "exception": false,
     "start_time": "2024-03-03T16:26:34.030373",
     "status": "completed"
    },
    "tags": []
   },
   "source": [
    "## Preparacion de los datos para el modelo\n",
    "****\n",
    "Ahora procederemos  dividir los datos, crear un *one hot encoding* , para ello hemos de visualizar en los texto los datos mas relevantes y eliminar caracteres especiales asi como urls"
   ]
  },
  {
   "cell_type": "code",
   "execution_count": 24,
   "id": "b6c9ea3a",
   "metadata": {
    "execution": {
     "iopub.execute_input": "2024-03-03T16:26:34.103190Z",
     "iopub.status.busy": "2024-03-03T16:26:34.102938Z",
     "iopub.status.idle": "2024-03-03T16:26:34.363474Z",
     "shell.execute_reply": "2024-03-03T16:26:34.362749Z"
    },
    "papermill": {
     "duration": 0.28791,
     "end_time": "2024-03-03T16:26:34.365808",
     "exception": false,
     "start_time": "2024-03-03T16:26:34.077898",
     "status": "completed"
    },
    "tags": []
   },
   "outputs": [],
   "source": [
    "from sklearn.model_selection import train_test_split\n"
   ]
  },
  {
   "cell_type": "markdown",
   "id": "e57d350b",
   "metadata": {
    "papermill": {
     "duration": 0.023803,
     "end_time": "2024-03-03T16:26:34.414667",
     "exception": false,
     "start_time": "2024-03-03T16:26:34.390864",
     "status": "completed"
    },
    "tags": []
   },
   "source": [
    "### Eliminacion de caracteres especiales y urls\n",
    "****"
   ]
  },
  {
   "cell_type": "code",
   "execution_count": 25,
   "id": "e210bf69",
   "metadata": {
    "execution": {
     "iopub.execute_input": "2024-03-03T16:26:34.464423Z",
     "iopub.status.busy": "2024-03-03T16:26:34.463688Z",
     "iopub.status.idle": "2024-03-03T16:26:34.470376Z",
     "shell.execute_reply": "2024-03-03T16:26:34.469535Z"
    },
    "papermill": {
     "duration": 0.033518,
     "end_time": "2024-03-03T16:26:34.472154",
     "exception": false,
     "start_time": "2024-03-03T16:26:34.438636",
     "status": "completed"
    },
    "tags": []
   },
   "outputs": [],
   "source": [
    "def Cleaning_text(text):\n",
    "    text_split = text.split()    \n",
    "    exception = ['@','#',\"$\",'%','^','*','(',')',':','.']\n",
    "\n",
    "    for ids in range(30):\n",
    "        try:\n",
    "            #Detectar url\n",
    "            if text_split[ids].__contains__('http'):\n",
    "                text_split[ids] = ''\n",
    "\n",
    "            #Deteccion de exception\n",
    "            for exc in exception:\n",
    "                if text_split[ids].__contains__(exc):\n",
    "                    text_split[ids] = text_split[ids].replace(exc,'')\n",
    "        except:\n",
    "            text_split += '%'\n",
    "                \n",
    "    \n",
    "    text_result = ' '.join(text_split)\n",
    "    return text_result\n",
    "        \n",
    "    "
   ]
  },
  {
   "cell_type": "code",
   "execution_count": 26,
   "id": "827b911d",
   "metadata": {
    "execution": {
     "iopub.execute_input": "2024-03-03T16:26:34.520592Z",
     "iopub.status.busy": "2024-03-03T16:26:34.520343Z",
     "iopub.status.idle": "2024-03-03T16:26:34.733576Z",
     "shell.execute_reply": "2024-03-03T16:26:34.732881Z"
    },
    "papermill": {
     "duration": 0.239808,
     "end_time": "2024-03-03T16:26:34.735717",
     "exception": false,
     "start_time": "2024-03-03T16:26:34.495909",
     "status": "completed"
    },
    "tags": []
   },
   "outputs": [],
   "source": [
    "dataset['text']=dataset['text'].apply(Cleaning_text)"
   ]
  },
  {
   "cell_type": "markdown",
   "id": "870e4682",
   "metadata": {
    "papermill": {
     "duration": 0.026556,
     "end_time": "2024-03-03T16:26:34.787315",
     "exception": false,
     "start_time": "2024-03-03T16:26:34.760759",
     "status": "completed"
    },
    "tags": []
   },
   "source": [
    "### One hot encoding\n",
    "****"
   ]
  },
  {
   "cell_type": "code",
   "execution_count": 27,
   "id": "4782a8fe",
   "metadata": {
    "execution": {
     "iopub.execute_input": "2024-03-03T16:26:34.836167Z",
     "iopub.status.busy": "2024-03-03T16:26:34.835860Z",
     "iopub.status.idle": "2024-03-03T16:26:34.843484Z",
     "shell.execute_reply": "2024-03-03T16:26:34.842733Z"
    },
    "papermill": {
     "duration": 0.034277,
     "end_time": "2024-03-03T16:26:34.845376",
     "exception": false,
     "start_time": "2024-03-03T16:26:34.811099",
     "status": "completed"
    },
    "tags": []
   },
   "outputs": [],
   "source": [
    "def One_hot_encoding(text_data,numeros_type=False):\n",
    "    #variables\n",
    "    dicc = {}\n",
    "    count = 0\n",
    "    #funcion de reconocimiento de datos\n",
    "    for text in text_data:\n",
    "        for text_split in text.split():\n",
    "            if not dicc.__contains__(text_split):\n",
    "                dicc.setdefault(text_split.lower(),count) #Colocaremos todas las palabras en minusculas\n",
    "                count += 1\n",
    "                \n",
    "    cantidad_total = list(dicc.values())[-1]\n",
    "    #EXtraccion momentanea\n",
    "    if numeros_type ==True:\n",
    "        return dicc\n",
    "    \n",
    "    #Ceacion del one_hot_encoding\n",
    "    for key in dicc.keys():\n",
    "        zeros_list = np.zeros(cantidad_total+1)\n",
    "        if key != \"%\":\n",
    "            zeros_list[dicc[key]] = 1\n",
    "        dicc[key] = zeros_list\n",
    "        \n",
    "        \n",
    "    #Crear traduccion\n",
    "    for text in text_data:\n",
    "        for key in dicc.keys():\n",
    "            if text.__contains__(key):\n",
    "                mapa=np.zeros(30)\n",
    "            \n",
    "        \n",
    "    return dicc\n",
    "    \n",
    "#diccionario_texto=One_hot_encoding(dataset['text'],True)\n",
    "#diccionario_keyword=One_hot_encoding(dataset['keyword'],True)\n"
   ]
  },
  {
   "cell_type": "code",
   "execution_count": 28,
   "id": "e494d94f",
   "metadata": {
    "execution": {
     "iopub.execute_input": "2024-03-03T16:26:34.897903Z",
     "iopub.status.busy": "2024-03-03T16:26:34.897630Z",
     "iopub.status.idle": "2024-03-03T16:26:34.945321Z",
     "shell.execute_reply": "2024-03-03T16:26:34.944589Z"
    },
    "papermill": {
     "duration": 0.0747,
     "end_time": "2024-03-03T16:26:34.947247",
     "exception": false,
     "start_time": "2024-03-03T16:26:34.872547",
     "status": "completed"
    },
    "tags": []
   },
   "outputs": [],
   "source": [
    "diccionario_texto=One_hot_encoding(dataset['text'],True)\n",
    "diccionario_keyword=One_hot_encoding(dataset['keyword'],True)"
   ]
  },
  {
   "cell_type": "markdown",
   "id": "c3d6184c",
   "metadata": {
    "papermill": {
     "duration": 0.034363,
     "end_time": "2024-03-03T16:26:35.007212",
     "exception": false,
     "start_time": "2024-03-03T16:26:34.972849",
     "status": "completed"
    },
    "tags": []
   },
   "source": [
    "### Division de los datos\n",
    "***"
   ]
  },
  {
   "cell_type": "code",
   "execution_count": 29,
   "id": "b77982ea",
   "metadata": {
    "execution": {
     "iopub.execute_input": "2024-03-03T16:26:35.062848Z",
     "iopub.status.busy": "2024-03-03T16:26:35.062517Z",
     "iopub.status.idle": "2024-03-03T16:26:35.066976Z",
     "shell.execute_reply": "2024-03-03T16:26:35.066095Z"
    },
    "papermill": {
     "duration": 0.030699,
     "end_time": "2024-03-03T16:26:35.068759",
     "exception": false,
     "start_time": "2024-03-03T16:26:35.038060",
     "status": "completed"
    },
    "tags": []
   },
   "outputs": [],
   "source": [
    "muestra = dataset.iloc[:int(len(dataset)*0.8)]"
   ]
  },
  {
   "cell_type": "code",
   "execution_count": 30,
   "id": "c87a68c4",
   "metadata": {
    "execution": {
     "iopub.execute_input": "2024-03-03T16:26:35.118004Z",
     "iopub.status.busy": "2024-03-03T16:26:35.117644Z",
     "iopub.status.idle": "2024-03-03T16:26:35.122198Z",
     "shell.execute_reply": "2024-03-03T16:26:35.121351Z"
    },
    "papermill": {
     "duration": 0.031514,
     "end_time": "2024-03-03T16:26:35.124073",
     "exception": false,
     "start_time": "2024-03-03T16:26:35.092559",
     "status": "completed"
    },
    "tags": []
   },
   "outputs": [],
   "source": [
    "def keyword_func(index):\n",
    "    zeros = np.zeros(len(diccionario_keyword))\n",
    "    zeros[index] = 1\n",
    "    return zeros"
   ]
  },
  {
   "cell_type": "code",
   "execution_count": 31,
   "id": "1b71b11b",
   "metadata": {
    "execution": {
     "iopub.execute_input": "2024-03-03T16:26:35.173368Z",
     "iopub.status.busy": "2024-03-03T16:26:35.173125Z",
     "iopub.status.idle": "2024-03-03T16:26:35.184252Z",
     "shell.execute_reply": "2024-03-03T16:26:35.183294Z"
    },
    "papermill": {
     "duration": 0.03802,
     "end_time": "2024-03-03T16:26:35.186366",
     "exception": false,
     "start_time": "2024-03-03T16:26:35.148346",
     "status": "completed"
    },
    "tags": []
   },
   "outputs": [
    {
     "name": "stderr",
     "output_type": "stream",
     "text": [
      "/tmp/ipykernel_26/2751944590.py:1: SettingWithCopyWarning: \n",
      "A value is trying to be set on a copy of a slice from a DataFrame.\n",
      "Try using .loc[row_indexer,col_indexer] = value instead\n",
      "\n",
      "See the caveats in the documentation: https://pandas.pydata.org/pandas-docs/stable/user_guide/indexing.html#returning-a-view-versus-a-copy\n",
      "  muestra['keyword']=muestra['keyword'].apply(lambda x: keyword_func(diccionario_keyword[x]))\n"
     ]
    }
   ],
   "source": [
    "muestra['keyword']=muestra['keyword'].apply(lambda x: keyword_func(diccionario_keyword[x]))"
   ]
  },
  {
   "cell_type": "code",
   "execution_count": 32,
   "id": "36e18ce2",
   "metadata": {
    "execution": {
     "iopub.execute_input": "2024-03-03T16:26:35.235200Z",
     "iopub.status.busy": "2024-03-03T16:26:35.234911Z",
     "iopub.status.idle": "2024-03-03T16:26:35.240176Z",
     "shell.execute_reply": "2024-03-03T16:26:35.239383Z"
    },
    "papermill": {
     "duration": 0.031956,
     "end_time": "2024-03-03T16:26:35.242085",
     "exception": false,
     "start_time": "2024-03-03T16:26:35.210129",
     "status": "completed"
    },
    "tags": []
   },
   "outputs": [],
   "source": [
    "def Traductor_lista(text,index_help=False):\n",
    "    result=[]\n",
    "    text_ = text.split()\n",
    "    for x in range(30):\n",
    "        try:\n",
    "            if index_help ==True:\n",
    "                print(f' encontrado: {text_[x]}')\n",
    "\n",
    "            result +=[diccionario_texto[text_[x].lower()]]\n",
    "        except:\n",
    "            result+=[diccionario_texto['%']]\n",
    "    return result"
   ]
  },
  {
   "cell_type": "code",
   "execution_count": 33,
   "id": "6b00370d",
   "metadata": {
    "execution": {
     "iopub.execute_input": "2024-03-03T16:26:35.293184Z",
     "iopub.status.busy": "2024-03-03T16:26:35.292898Z",
     "iopub.status.idle": "2024-03-03T16:26:35.363525Z",
     "shell.execute_reply": "2024-03-03T16:26:35.362705Z"
    },
    "papermill": {
     "duration": 0.098585,
     "end_time": "2024-03-03T16:26:35.365539",
     "exception": false,
     "start_time": "2024-03-03T16:26:35.266954",
     "status": "completed"
    },
    "tags": []
   },
   "outputs": [
    {
     "name": "stderr",
     "output_type": "stream",
     "text": [
      "/tmp/ipykernel_26/2038506177.py:1: SettingWithCopyWarning: \n",
      "A value is trying to be set on a copy of a slice from a DataFrame.\n",
      "Try using .loc[row_indexer,col_indexer] = value instead\n",
      "\n",
      "See the caveats in the documentation: https://pandas.pydata.org/pandas-docs/stable/user_guide/indexing.html#returning-a-view-versus-a-copy\n",
      "  muestra['text_code']=muestra['text'].apply(lambda text: Traductor_lista(text))\n"
     ]
    }
   ],
   "source": [
    "muestra['text_code']=muestra['text'].apply(lambda text: Traductor_lista(text))"
   ]
  },
  {
   "cell_type": "code",
   "execution_count": 34,
   "id": "fdce5b9d",
   "metadata": {
    "execution": {
     "iopub.execute_input": "2024-03-03T16:26:35.414265Z",
     "iopub.status.busy": "2024-03-03T16:26:35.414006Z",
     "iopub.status.idle": "2024-03-03T16:26:42.764759Z",
     "shell.execute_reply": "2024-03-03T16:26:42.763789Z"
    },
    "papermill": {
     "duration": 7.377719,
     "end_time": "2024-03-03T16:26:42.766906",
     "exception": false,
     "start_time": "2024-03-03T16:26:35.389187",
     "status": "completed"
    },
    "tags": []
   },
   "outputs": [
    {
     "data": {
      "text/plain": [
       "<BarContainer object of 4064 artists>"
      ]
     },
     "execution_count": 34,
     "metadata": {},
     "output_type": "execute_result"
    },
    {
     "data": {
      "image/png": "[encoded data removed]",
      "text/plain": [
       "<Figure size 640x480 with 1 Axes>"
      ]
     },
     "metadata": {},
     "output_type": "display_data"
    }
   ],
   "source": [
    "plt.bar(range(len(muestra['text'])),muestra['text_code'].apply(lambda x: len(x)))"
   ]
  },
  {
   "cell_type": "code",
   "execution_count": 35,
   "id": "c3cb1235",
   "metadata": {
    "execution": {
     "iopub.execute_input": "2024-03-03T16:26:42.820042Z",
     "iopub.status.busy": "2024-03-03T16:26:42.819473Z",
     "iopub.status.idle": "2024-03-03T16:26:42.846711Z",
     "shell.execute_reply": "2024-03-03T16:26:42.845744Z"
    },
    "papermill": {
     "duration": 0.055603,
     "end_time": "2024-03-03T16:26:42.848982",
     "exception": false,
     "start_time": "2024-03-03T16:26:42.793379",
     "status": "completed"
    },
    "tags": []
   },
   "outputs": [
    {
     "data": {
      "text/html": [
       "<div>\n",
       "<style scoped>\n",
       "    .dataframe tbody tr th:only-of-type {\n",
       "        vertical-align: middle;\n",
       "    }\n",
       "\n",
       "    .dataframe tbody tr th {\n",
       "        vertical-align: top;\n",
       "    }\n",
       "\n",
       "    .dataframe thead th {\n",
       "        text-align: right;\n",
       "    }\n",
       "</style>\n",
       "<table border=\"1\" class=\"dataframe\">\n",
       "  <thead>\n",
       "    <tr style=\"text-align: right;\">\n",
       "      <th></th>\n",
       "      <th>keyword</th>\n",
       "      <th>text</th>\n",
       "      <th>text_code</th>\n",
       "    </tr>\n",
       "  </thead>\n",
       "  <tbody>\n",
       "    <tr>\n",
       "      <th>31</th>\n",
       "      <td>[1.0, 0.0, 0.0, 0.0, 0.0, 0.0, 0.0, 0.0, 0.0, ...</td>\n",
       "      <td>bbcmtd Wholesale Markets ablaze  % % % % % % %...</td>\n",
       "      <td>[0, 1, 2, 3, 4, 4, 4, 4, 4, 4, 4, 4, 4, 4, 4, ...</td>\n",
       "    </tr>\n",
       "    <tr>\n",
       "      <th>32</th>\n",
       "      <td>[1.0, 0.0, 0.0, 0.0, 0.0, 0.0, 0.0, 0.0, 0.0, ...</td>\n",
       "      <td>We always try to bring the heavy metal RT  % %...</td>\n",
       "      <td>[5, 6, 7, 8, 9, 10, 11, 12, 13, 4, 4, 4, 4, 4,...</td>\n",
       "    </tr>\n",
       "    <tr>\n",
       "      <th>33</th>\n",
       "      <td>[1.0, 0.0, 0.0, 0.0, 0.0, 0.0, 0.0, 0.0, 0.0, ...</td>\n",
       "      <td>AFRICANBAZE Breaking newsNigeria flag set abla...</td>\n",
       "      <td>[14, 15, 16, 17, 18, 3, 19, 20, 4, 4, 4, 4, 4,...</td>\n",
       "    </tr>\n",
       "    <tr>\n",
       "      <th>34</th>\n",
       "      <td>[1.0, 0.0, 0.0, 0.0, 0.0, 0.0, 0.0, 0.0, 0.0, ...</td>\n",
       "      <td>Crying out for more! Set me ablaze % % % % % %...</td>\n",
       "      <td>[21, 22, 23, 24, 18, 26, 3, 4, 4, 4, 4, 4, 4, ...</td>\n",
       "    </tr>\n",
       "    <tr>\n",
       "      <th>35</th>\n",
       "      <td>[1.0, 0.0, 0.0, 0.0, 0.0, 0.0, 0.0, 0.0, 0.0, ...</td>\n",
       "      <td>On plus side LOOK AT THE SKY LAST NIGHT IT WAS...</td>\n",
       "      <td>[27, 28, 29, 30, 31, 10, 33, 34, 35, 36, 37, 3...</td>\n",
       "    </tr>\n",
       "    <tr>\n",
       "      <th>...</th>\n",
       "      <td>...</td>\n",
       "      <td>...</td>\n",
       "      <td>...</td>\n",
       "    </tr>\n",
       "    <tr>\n",
       "      <th>6030</th>\n",
       "      <td>[1.0, 0.0, 0.0, 0.0, 0.0, 0.0, 0.0, 0.0, 0.0, ...</td>\n",
       "      <td>[Report 5] 182245 Ibaraki Prefecture offing M5...</td>\n",
       "      <td>[25998, 25999, 26000, 26001, 26002, 26003, 260...</td>\n",
       "    </tr>\n",
       "    <tr>\n",
       "      <th>6033</th>\n",
       "      <td>[1.0, 0.0, 0.0, 0.0, 0.0, 0.0, 0.0, 0.0, 0.0, ...</td>\n",
       "      <td>Oil and Gas Exploration Takes Seismic Shift in...</td>\n",
       "      <td>[7792, 79, 7384, 25967, 7130, 13802, 2453, 19,...</td>\n",
       "    </tr>\n",
       "    <tr>\n",
       "      <th>6034</th>\n",
       "      <td>[1.0, 0.0, 0.0, 0.0, 0.0, 0.0, 0.0, 0.0, 0.0, ...</td>\n",
       "      <td>kakajambori ?? U control the future of india Y...</td>\n",
       "      <td>[26019, 87, 2232, 2039, 10, 3318, 85, 2475, 26...</td>\n",
       "    </tr>\n",
       "    <tr>\n",
       "      <th>6036</th>\n",
       "      <td>[1.0, 0.0, 0.0, 0.0, 0.0, 0.0, 0.0, 0.0, 0.0, ...</td>\n",
       "      <td>Agency seeks comments on seismic permits  % % ...</td>\n",
       "      <td>[26027, 26028, 5212, 27, 13802, 9631, 4, 4, 4,...</td>\n",
       "    </tr>\n",
       "    <tr>\n",
       "      <th>6037</th>\n",
       "      <td>[1.0, 0.0, 0.0, 0.0, 0.0, 0.0, 0.0, 0.0, 0.0, ...</td>\n",
       "      <td>Still no plans? Don't worry we got you covered...</td>\n",
       "      <td>[545, 586, 26030, 272, 2447, 5, 283, 64, 7885,...</td>\n",
       "    </tr>\n",
       "  </tbody>\n",
       "</table>\n",
       "<p>4064 rows × 3 columns</p>\n",
       "</div>"
      ],
      "text/plain": [
       "                                                keyword  \\\n",
       "31    [1.0, 0.0, 0.0, 0.0, 0.0, 0.0, 0.0, 0.0, 0.0, ...   \n",
       "32    [1.0, 0.0, 0.0, 0.0, 0.0, 0.0, 0.0, 0.0, 0.0, ...   \n",
       "33    [1.0, 0.0, 0.0, 0.0, 0.0, 0.0, 0.0, 0.0, 0.0, ...   \n",
       "34    [1.0, 0.0, 0.0, 0.0, 0.0, 0.0, 0.0, 0.0, 0.0, ...   \n",
       "35    [1.0, 0.0, 0.0, 0.0, 0.0, 0.0, 0.0, 0.0, 0.0, ...   \n",
       "...                                                 ...   \n",
       "6030  [1.0, 0.0, 0.0, 0.0, 0.0, 0.0, 0.0, 0.0, 0.0, ...   \n",
       "6033  [1.0, 0.0, 0.0, 0.0, 0.0, 0.0, 0.0, 0.0, 0.0, ...   \n",
       "6034  [1.0, 0.0, 0.0, 0.0, 0.0, 0.0, 0.0, 0.0, 0.0, ...   \n",
       "6036  [1.0, 0.0, 0.0, 0.0, 0.0, 0.0, 0.0, 0.0, 0.0, ...   \n",
       "6037  [1.0, 0.0, 0.0, 0.0, 0.0, 0.0, 0.0, 0.0, 0.0, ...   \n",
       "\n",
       "                                                   text  \\\n",
       "31    bbcmtd Wholesale Markets ablaze  % % % % % % %...   \n",
       "32    We always try to bring the heavy metal RT  % %...   \n",
       "33    AFRICANBAZE Breaking newsNigeria flag set abla...   \n",
       "34    Crying out for more! Set me ablaze % % % % % %...   \n",
       "35    On plus side LOOK AT THE SKY LAST NIGHT IT WAS...   \n",
       "...                                                 ...   \n",
       "6030  [Report 5] 182245 Ibaraki Prefecture offing M5...   \n",
       "6033  Oil and Gas Exploration Takes Seismic Shift in...   \n",
       "6034  kakajambori ?? U control the future of india Y...   \n",
       "6036  Agency seeks comments on seismic permits  % % ...   \n",
       "6037  Still no plans? Don't worry we got you covered...   \n",
       "\n",
       "                                              text_code  \n",
       "31    [0, 1, 2, 3, 4, 4, 4, 4, 4, 4, 4, 4, 4, 4, 4, ...  \n",
       "32    [5, 6, 7, 8, 9, 10, 11, 12, 13, 4, 4, 4, 4, 4,...  \n",
       "33    [14, 15, 16, 17, 18, 3, 19, 20, 4, 4, 4, 4, 4,...  \n",
       "34    [21, 22, 23, 24, 18, 26, 3, 4, 4, 4, 4, 4, 4, ...  \n",
       "35    [27, 28, 29, 30, 31, 10, 33, 34, 35, 36, 37, 3...  \n",
       "...                                                 ...  \n",
       "6030  [25998, 25999, 26000, 26001, 26002, 26003, 260...  \n",
       "6033  [7792, 79, 7384, 25967, 7130, 13802, 2453, 19,...  \n",
       "6034  [26019, 87, 2232, 2039, 10, 3318, 85, 2475, 26...  \n",
       "6036  [26027, 26028, 5212, 27, 13802, 9631, 4, 4, 4,...  \n",
       "6037  [545, 586, 26030, 272, 2447, 5, 283, 64, 7885,...  \n",
       "\n",
       "[4064 rows x 3 columns]"
      ]
     },
     "execution_count": 35,
     "metadata": {},
     "output_type": "execute_result"
    }
   ],
   "source": [
    "muestra[['keyword','text','text_code']]"
   ]
  },
  {
   "cell_type": "code",
   "execution_count": 36,
   "id": "c4180ee6",
   "metadata": {
    "execution": {
     "iopub.execute_input": "2024-03-03T16:26:42.901641Z",
     "iopub.status.busy": "2024-03-03T16:26:42.901397Z",
     "iopub.status.idle": "2024-03-03T16:26:42.908500Z",
     "shell.execute_reply": "2024-03-03T16:26:42.907825Z"
    },
    "papermill": {
     "duration": 0.035066,
     "end_time": "2024-03-03T16:26:42.910431",
     "exception": false,
     "start_time": "2024-03-03T16:26:42.875365",
     "status": "completed"
    },
    "tags": []
   },
   "outputs": [],
   "source": [
    "x_train,x_test,y_train,y_test = train_test_split(np.array(muestra['text_code']),np.array(muestra['target']),random_state=24)\n",
    "x_train_key,x_test_key,y_train,y_test = train_test_split(np.array(muestra['keyword']),np.array(muestra['target']),random_state=24)"
   ]
  },
  {
   "cell_type": "markdown",
   "id": "dbb663f6",
   "metadata": {
    "papermill": {
     "duration": 0.024675,
     "end_time": "2024-03-03T16:26:42.959922",
     "exception": false,
     "start_time": "2024-03-03T16:26:42.935247",
     "status": "completed"
    },
    "tags": []
   },
   "source": [
    "## Creacion y entrenamineto del modelo\n",
    "****\n",
    "Ahora procederemos a crear y entrenar el modelo"
   ]
  },
  {
   "cell_type": "code",
   "execution_count": 37,
   "id": "c0ab4694",
   "metadata": {
    "execution": {
     "iopub.execute_input": "2024-03-03T16:26:43.012620Z",
     "iopub.status.busy": "2024-03-03T16:26:43.012369Z",
     "iopub.status.idle": "2024-03-03T16:26:43.016544Z",
     "shell.execute_reply": "2024-03-03T16:26:43.015632Z"
    },
    "papermill": {
     "duration": 0.03393,
     "end_time": "2024-03-03T16:26:43.018552",
     "exception": false,
     "start_time": "2024-03-03T16:26:42.984622",
     "status": "completed"
    },
    "tags": []
   },
   "outputs": [],
   "source": [
    "import keras as kr\n",
    "from keras.regularizers import L1,L2"
   ]
  },
  {
   "cell_type": "code",
   "execution_count": 38,
   "id": "bf3a44e2",
   "metadata": {
    "execution": {
     "iopub.execute_input": "2024-03-03T16:26:43.071140Z",
     "iopub.status.busy": "2024-03-03T16:26:43.070829Z",
     "iopub.status.idle": "2024-03-03T16:26:43.093189Z",
     "shell.execute_reply": "2024-03-03T16:26:43.092496Z"
    },
    "papermill": {
     "duration": 0.051172,
     "end_time": "2024-03-03T16:26:43.095071",
     "exception": false,
     "start_time": "2024-03-03T16:26:43.043899",
     "status": "completed"
    },
    "tags": []
   },
   "outputs": [],
   "source": [
    "x_train_key = np.array([x for x in x_train_key])\n",
    "x_train = np.array([x for x in x_train])"
   ]
  },
  {
   "cell_type": "code",
   "execution_count": 39,
   "id": "6ef3bc66",
   "metadata": {
    "execution": {
     "iopub.execute_input": "2024-03-03T16:26:43.146179Z",
     "iopub.status.busy": "2024-03-03T16:26:43.145428Z",
     "iopub.status.idle": "2024-03-03T16:26:43.156446Z",
     "shell.execute_reply": "2024-03-03T16:26:43.155761Z"
    },
    "papermill": {
     "duration": 0.038551,
     "end_time": "2024-03-03T16:26:43.158306",
     "exception": false,
     "start_time": "2024-03-03T16:26:43.119755",
     "status": "completed"
    },
    "tags": []
   },
   "outputs": [],
   "source": [
    "x_test_key = np.array([x for x in x_test_key])\n",
    "x_test = np.array([x for x in x_test])"
   ]
  },
  {
   "cell_type": "markdown",
   "id": "a477643f",
   "metadata": {
    "papermill": {
     "duration": 0.024559,
     "end_time": "2024-03-03T16:26:43.207874",
     "exception": false,
     "start_time": "2024-03-03T16:26:43.183315",
     "status": "completed"
    },
    "tags": []
   },
   "source": [
    "## `tipo uno del modelo`"
   ]
  },
  {
   "cell_type": "code",
   "execution_count": 40,
   "id": "17546dd4",
   "metadata": {
    "execution": {
     "iopub.execute_input": "2024-03-03T16:26:43.258329Z",
     "iopub.status.busy": "2024-03-03T16:26:43.258082Z",
     "iopub.status.idle": "2024-03-03T16:26:44.864537Z",
     "shell.execute_reply": "2024-03-03T16:26:44.863224Z"
    },
    "papermill": {
     "duration": 1.635083,
     "end_time": "2024-03-03T16:26:44.867398",
     "exception": false,
     "start_time": "2024-03-03T16:26:43.232315",
     "status": "completed"
    },
    "tags": []
   },
   "outputs": [
    {
     "data": {
      "image/png": "[encoded data removed]",
      "text/plain": [
       "<IPython.core.display.Image object>"
      ]
     },
     "execution_count": 40,
     "metadata": {},
     "output_type": "execute_result"
    }
   ],
   "source": [
    "input_layer_keyword = kr.layers.Input(shape=(51,),name=\"keyword\") #Datos con la logngitud del One hot encoding del kyword\n",
    "input_layer_text = kr.layers.Input(shape=(30,),name=\"text\")\n",
    "\n",
    "\n",
    "#Tratamiendo de text\n",
    "# kr.layers.Flatten\n",
    "dense_text =kr.layers.Flatten()(input_layer_text)\n",
    "dense_text = kr.layers.Dense(24,activation=\"sigmoid\")(dense_text)\n",
    "\n",
    "#Tratamiento de keyword\n",
    "desne_keyword =kr.layers.Flatten()(input_layer_keyword)\n",
    "desne_keyword = kr.layers.Dense(24,activation=\"sigmoid\")(desne_keyword)\n",
    "\n",
    "#Hidden layers\n",
    "averge = kr.layers.concatenate([desne_keyword,dense_text])\n",
    "sigmoid_layer = kr.layers.Dense(42,activation='relu',name='hidden_layers_2')(averge)\n",
    "hidden = kr.layers.Dense(32,activation='relu',name='hidden_layer_1')(sigmoid_layer)\n",
    "hidden = kr.layers.Dense(10,activation='relu',name='hidden_layer_2')(hidden)\n",
    "\n",
    "#Resultado\n",
    "result = kr.layers.Dense(1,activation='sigmoid',name='result')(hidden)\n",
    "\n",
    "\n",
    "model = kr.Model([input_layer_keyword,input_layer_text],result)\n",
    "model.compile('adam',loss='binary_crossentropy',metrics='acc')\n",
    "\n",
    "#Mostrar el modelo\n",
    "kr.utils.plot_model(model,show_shapes=True)\n"
   ]
  },
  {
   "cell_type": "markdown",
   "id": "7e371321",
   "metadata": {
    "papermill": {
     "duration": 0.025866,
     "end_time": "2024-03-03T16:26:44.919964",
     "exception": false,
     "start_time": "2024-03-03T16:26:44.894098",
     "status": "completed"
    },
    "tags": []
   },
   "source": [
    "## `Segunda arquitectura`"
   ]
  },
  {
   "cell_type": "markdown",
   "id": "1c2830ad",
   "metadata": {
    "papermill": {
     "duration": 0.025354,
     "end_time": "2024-03-03T16:26:44.970796",
     "exception": false,
     "start_time": "2024-03-03T16:26:44.945442",
     "status": "completed"
    },
    "tags": []
   },
   "source": [
    "### Entrenamiento del modelo"
   ]
  },
  {
   "cell_type": "code",
   "execution_count": 41,
   "id": "81531894",
   "metadata": {
    "execution": {
     "iopub.execute_input": "2024-03-03T16:26:45.043528Z",
     "iopub.status.busy": "2024-03-03T16:26:45.042715Z",
     "iopub.status.idle": "2024-03-03T16:26:50.832323Z",
     "shell.execute_reply": "2024-03-03T16:26:50.831378Z"
    },
    "papermill": {
     "duration": 5.827949,
     "end_time": "2024-03-03T16:26:50.834224",
     "exception": false,
     "start_time": "2024-03-03T16:26:45.006275",
     "status": "completed"
    },
    "tags": []
   },
   "outputs": [
    {
     "name": "stdout",
     "output_type": "stream",
     "text": [
      "Epoch 1/5\n",
      "96/96 [==============================] - 4s 4ms/step - loss: 0.6823 - acc: 0.5676\n",
      "Epoch 2/5\n",
      "96/96 [==============================] - 0s 4ms/step - loss: 0.6718 - acc: 0.5860\n",
      "Epoch 3/5\n",
      "96/96 [==============================] - 0s 4ms/step - loss: 0.6559 - acc: 0.6319\n",
      "Epoch 4/5\n",
      "96/96 [==============================] - 0s 4ms/step - loss: 0.6273 - acc: 0.6690\n",
      "Epoch 5/5\n",
      "96/96 [==============================] - 0s 4ms/step - loss: 0.6084 - acc: 0.6811\n"
     ]
    },
    {
     "data": {
      "text/plain": [
       "<keras.callbacks.History at 0x7b470c06add0>"
      ]
     },
     "execution_count": 41,
     "metadata": {},
     "output_type": "execute_result"
    }
   ],
   "source": [
    "model.fit([x_train_key,x_train],y_train,epochs=5)"
   ]
  },
  {
   "cell_type": "markdown",
   "id": "198925e5",
   "metadata": {
    "papermill": {
     "duration": 0.030182,
     "end_time": "2024-03-03T16:26:50.894704",
     "exception": false,
     "start_time": "2024-03-03T16:26:50.864522",
     "status": "completed"
    },
    "tags": []
   },
   "source": [
    "### Testeo del modelo"
   ]
  },
  {
   "cell_type": "code",
   "execution_count": 42,
   "id": "31c546d3",
   "metadata": {
    "execution": {
     "iopub.execute_input": "2024-03-03T16:26:50.954608Z",
     "iopub.status.busy": "2024-03-03T16:26:50.954325Z",
     "iopub.status.idle": "2024-03-03T16:26:51.254498Z",
     "shell.execute_reply": "2024-03-03T16:26:51.253416Z"
    },
    "papermill": {
     "duration": 0.332577,
     "end_time": "2024-03-03T16:26:51.256639",
     "exception": false,
     "start_time": "2024-03-03T16:26:50.924062",
     "status": "completed"
    },
    "tags": []
   },
   "outputs": [
    {
     "name": "stdout",
     "output_type": "stream",
     "text": [
      "32/32 [==============================] - 0s 2ms/step - loss: 0.6238 - acc: 0.6575\n"
     ]
    },
    {
     "data": {
      "text/plain": [
       "[0.6237616539001465, 0.6574802994728088]"
      ]
     },
     "execution_count": 42,
     "metadata": {},
     "output_type": "execute_result"
    }
   ],
   "source": [
    "model.evaluate([x_test_key,x_test],y_test)"
   ]
  },
  {
   "cell_type": "code",
   "execution_count": 43,
   "id": "365ffa9b",
   "metadata": {
    "execution": {
     "iopub.execute_input": "2024-03-03T16:26:51.320582Z",
     "iopub.status.busy": "2024-03-03T16:26:51.320314Z",
     "iopub.status.idle": "2024-03-03T16:26:52.005355Z",
     "shell.execute_reply": "2024-03-03T16:26:52.004481Z"
    },
    "papermill": {
     "duration": 0.718198,
     "end_time": "2024-03-03T16:26:52.007338",
     "exception": false,
     "start_time": "2024-03-03T16:26:51.289140",
     "status": "completed"
    },
    "tags": []
   },
   "outputs": [
    {
     "name": "stdout",
     "output_type": "stream",
     "text": [
      "32/32 [==============================] - 0s 2ms/step\n"
     ]
    },
    {
     "name": "stderr",
     "output_type": "stream",
     "text": [
      "/opt/conda/lib/python3.10/site-packages/seaborn/axisgrid.py:118: UserWarning: The figure layout has changed to tight\n",
      "  self._figure.tight_layout(*args, **kwargs)\n"
     ]
    },
    {
     "data": {
      "text/plain": [
       "<seaborn.axisgrid.FacetGrid at 0x7b46cb9d5c90>"
      ]
     },
     "execution_count": 43,
     "metadata": {},
     "output_type": "execute_result"
    },
    {
     "data": {
      "image/png": "[encoded data removed]",
      "text/plain": [
       "<Figure size 500x500 with 1 Axes>"
      ]
     },
     "metadata": {},
     "output_type": "display_data"
    }
   ],
   "source": [
    "y_pred=model.predict([x_test_key,x_test])\n",
    "y_pred = np.array([np.where(x <= 0.5,0,1) for x in y_pred]).reshape(len(y_pred))\n",
    "\n",
    "# Grafica de rendimiento\n",
    "analisis_aciertos=np.array([np.where(y_pred[x] == y_test[x],1,0) for x in range(len(y_pred))])\n",
    "sns.displot(analisis_aciertos,kde=True)\n"
   ]
  },
  {
   "cell_type": "markdown",
   "id": "63af5060",
   "metadata": {
    "papermill": {
     "duration": 0.030117,
     "end_time": "2024-03-03T16:26:52.069800",
     "exception": false,
     "start_time": "2024-03-03T16:26:52.039683",
     "status": "completed"
    },
    "tags": []
   },
   "source": [
    "### Pruebalo"
   ]
  },
  {
   "cell_type": "code",
   "execution_count": 44,
   "id": "e311e1ef",
   "metadata": {
    "execution": {
     "iopub.execute_input": "2024-03-03T16:26:52.130913Z",
     "iopub.status.busy": "2024-03-03T16:26:52.130584Z",
     "iopub.status.idle": "2024-03-03T16:26:52.135334Z",
     "shell.execute_reply": "2024-03-03T16:26:52.134389Z"
    },
    "papermill": {
     "duration": 0.037711,
     "end_time": "2024-03-03T16:26:52.137406",
     "exception": false,
     "start_time": "2024-03-03T16:26:52.099695",
     "status": "completed"
    },
    "tags": []
   },
   "outputs": [
    {
     "name": "stdout",
     "output_type": "stream",
     "text": [
      " encontrado: in\n",
      " encontrado: texas\n",
      " encontrado: the\n",
      " encontrado: largest\n",
      " encontrado: forest\n",
      " encontrado: reserve\n",
      " encontrado: is\n",
      " encontrado: burning,\n",
      " encontrado: someone\n",
      " encontrado: quickly\n",
      " encontrado: call\n",
      " encontrado: the\n",
      " encontrado: fire\n",
      " encontrado: department\n"
     ]
    }
   ],
   "source": [
    "#Extraccion del contnido del tweet\n",
    "texto_prueba = \"In Texas the largest forest reserve is burning, someone quickly call the fire department\"\n",
    "texto_prueba_bin=np.array(Traductor_lista(texto_prueba.lower(),True))"
   ]
  },
  {
   "cell_type": "code",
   "execution_count": 45,
   "id": "fa473c3d",
   "metadata": {
    "execution": {
     "iopub.execute_input": "2024-03-03T16:26:52.201360Z",
     "iopub.status.busy": "2024-03-03T16:26:52.201063Z",
     "iopub.status.idle": "2024-03-03T16:26:52.205079Z",
     "shell.execute_reply": "2024-03-03T16:26:52.204223Z"
    },
    "papermill": {
     "duration": 0.038038,
     "end_time": "2024-03-03T16:26:52.207019",
     "exception": false,
     "start_time": "2024-03-03T16:26:52.168981",
     "status": "completed"
    },
    "tags": []
   },
   "outputs": [],
   "source": [
    "#Hastag\n",
    "key_prueba=diccionario_keyword['forest%20fires']"
   ]
  },
  {
   "cell_type": "code",
   "execution_count": 46,
   "id": "0cb210e2",
   "metadata": {
    "execution": {
     "iopub.execute_input": "2024-03-03T16:26:52.268809Z",
     "iopub.status.busy": "2024-03-03T16:26:52.268561Z",
     "iopub.status.idle": "2024-03-03T16:26:52.277690Z",
     "shell.execute_reply": "2024-03-03T16:26:52.276807Z"
    },
    "papermill": {
     "duration": 0.04255,
     "end_time": "2024-03-03T16:26:52.279907",
     "exception": false,
     "start_time": "2024-03-03T16:26:52.237357",
     "status": "completed"
    },
    "tags": []
   },
   "outputs": [
    {
     "data": {
      "text/plain": [
       "[array(None, dtype=object),\n",
       " array(None, dtype=object),\n",
       " array(None, dtype=object),\n",
       " array(None, dtype=object),\n",
       " array(None, dtype=object),\n",
       " array(None, dtype=object),\n",
       " array(None, dtype=object),\n",
       " array('buildings%20on%20fire', dtype=object),\n",
       " array('bush%20fires', dtype=object),\n",
       " array(None, dtype=object),\n",
       " array(None, dtype=object),\n",
       " array(None, dtype=object),\n",
       " array(None, dtype=object),\n",
       " array(None, dtype=object),\n",
       " array(None, dtype=object),\n",
       " array(None, dtype=object),\n",
       " array(None, dtype=object),\n",
       " array(None, dtype=object),\n",
       " array('fire%20truck', dtype=object),\n",
       " array(None, dtype=object),\n",
       " array(None, dtype=object),\n",
       " array('forest%20fire', dtype=object),\n",
       " array('forest%20fires', dtype=object),\n",
       " array(None, dtype=object),\n",
       " array(None, dtype=object),\n",
       " array(None, dtype=object),\n",
       " array(None, dtype=object),\n",
       " array(None, dtype=object),\n",
       " array(None, dtype=object),\n",
       " array(None, dtype=object),\n",
       " array(None, dtype=object),\n",
       " array(None, dtype=object),\n",
       " array(None, dtype=object),\n",
       " array(None, dtype=object),\n",
       " array(None, dtype=object),\n",
       " array(None, dtype=object),\n",
       " array(None, dtype=object),\n",
       " array(None, dtype=object),\n",
       " array(None, dtype=object),\n",
       " array(None, dtype=object),\n",
       " array(None, dtype=object),\n",
       " array(None, dtype=object),\n",
       " array(None, dtype=object),\n",
       " array(None, dtype=object),\n",
       " array(None, dtype=object),\n",
       " array(None, dtype=object),\n",
       " array(None, dtype=object),\n",
       " array('wild%20fires', dtype=object),\n",
       " array('wildfire', dtype=object),\n",
       " array(None, dtype=object),\n",
       " array(None, dtype=object)]"
      ]
     },
     "execution_count": 46,
     "metadata": {},
     "output_type": "execute_result"
    }
   ],
   "source": [
    "#Verificacion de exitencia del hastag en el modelo\n",
    "[(np.where(x.__contains__('fire'),x,None)) for x in diccionario_keyword.keys()]"
   ]
  },
  {
   "cell_type": "code",
   "execution_count": 47,
   "id": "c498dc86",
   "metadata": {
    "execution": {
     "iopub.execute_input": "2024-03-03T16:26:52.343273Z",
     "iopub.status.busy": "2024-03-03T16:26:52.342728Z",
     "iopub.status.idle": "2024-03-03T16:26:52.467322Z",
     "shell.execute_reply": "2024-03-03T16:26:52.466412Z"
    },
    "papermill": {
     "duration": 0.158384,
     "end_time": "2024-03-03T16:26:52.469302",
     "exception": false,
     "start_time": "2024-03-03T16:26:52.310918",
     "status": "completed"
    },
    "tags": []
   },
   "outputs": [
    {
     "name": "stdout",
     "output_type": "stream",
     "text": [
      "1/1 [==============================] - 0s 37ms/step\n"
     ]
    },
    {
     "data": {
      "text/plain": [
       "'es una emergencia real'"
      ]
     },
     "execution_count": 47,
     "metadata": {},
     "output_type": "execute_result"
    }
   ],
   "source": [
    "y_texto_predict = model.predict([np.array([keyword_func(key_prueba)]),np.array([texto_prueba_bin])])\n",
    "y_texto_predict\n",
    "\n",
    "def Deterinar_target(target):\n",
    "    if target[0][0] >= .6:\n",
    "        return 'es una emergencia real'\n",
    "    else:\n",
    "        return 'es una emergencia falsa'\n",
    "Deterinar_target(y_texto_predict)"
   ]
  },
  {
   "cell_type": "markdown",
   "id": "84ba7c17",
   "metadata": {
    "papermill": {
     "duration": 0.030264,
     "end_time": "2024-03-03T16:26:52.530385",
     "exception": false,
     "start_time": "2024-03-03T16:26:52.500121",
     "status": "completed"
    },
    "tags": []
   },
   "source": [
    "## Guardar el modelo"
   ]
  },
  {
   "cell_type": "code",
   "execution_count": 48,
   "id": "5c690517",
   "metadata": {
    "execution": {
     "iopub.execute_input": "2024-03-03T16:26:52.592194Z",
     "iopub.status.busy": "2024-03-03T16:26:52.591904Z",
     "iopub.status.idle": "2024-03-03T16:26:52.641101Z",
     "shell.execute_reply": "2024-03-03T16:26:52.640374Z"
    },
    "papermill": {
     "duration": 0.08228,
     "end_time": "2024-03-03T16:26:52.642963",
     "exception": false,
     "start_time": "2024-03-03T16:26:52.560683",
     "status": "completed"
    },
    "tags": []
   },
   "outputs": [],
   "source": [
    "model.save('emergency_model_75.h5')"
   ]
  }
 ],
 "metadata": {
  "kaggle": {
   "accelerator": "nvidiaTeslaT4",
   "dataSources": [
    {
     "databundleVersionId": 869809,
     "sourceId": 17777,
     "sourceType": "competition"
    }
   ],
   "dockerImageVersionId": 30558,
   "isGpuEnabled": true,
   "isInternetEnabled": true,
   "language": "python",
   "sourceType": "notebook"
  },
  "kernelspec": {
   "display_name": "Python 3",
   "language": "python",
   "name": "python3"
  },
  "language_info": {
   "codemirror_mode": {
    "name": "ipython",
    "version": 3
   },
   "file_extension": ".py",
   "mimetype": "text/x-python",
   "name": "python",
   "nbconvert_exporter": "python",
   "pygments_lexer": "ipython3",
   "version": "3.10.12"
  },
  "papermill": {
   "default_parameters": {},
   "duration": 46.803823,
   "end_time": "2024-03-03T16:26:55.446268",
   "environment_variables": {},
   "exception": null,
   "input_path": "__notebook__.ipynb",
   "output_path": "__notebook__.ipynb",
   "parameters": {},
   "start_time": "2024-03-03T16:26:08.642445",
   "version": "2.4.0"
  }
 },
 "nbformat": 4,
 "nbformat_minor": 5
}
